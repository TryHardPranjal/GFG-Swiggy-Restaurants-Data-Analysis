{
  "nbformat": 4,
  "nbformat_minor": 0,
  "metadata": {
    "colab": {
      "provenance": []
    },
    "kernelspec": {
      "name": "python3",
      "display_name": "Python 3"
    },
    "language_info": {
      "name": "python"
    }
  },
  "cells": [
    {
      "cell_type": "code",
      "execution_count": 2,
      "metadata": {
        "colab": {
          "base_uri": "https://localhost:8080/"
        },
        "id": "fddVgDDMiGLA",
        "outputId": "688b0a9a-a314-43b5-f343-41bff7969572"
      },
      "outputs": [
        {
          "output_type": "stream",
          "name": "stdout",
          "text": [
            "Mounted at /content/drive\n"
          ]
        }
      ],
      "source": [
        "from google.colab import drive\n",
        "drive.mount('/content/drive')"
      ]
    },
    {
      "cell_type": "code",
      "source": [
        "import zipfile\n",
        "\n",
        "zip_path = '/content/drive/MyDrive/swiggy.zip'  # Replace with the actual path to your ZIP file\n",
        "unzip_path = '/content/dataset'  # Choose a directory to unzip the contents\n",
        "\n",
        "# Create the target directory if it doesn't exist\n",
        "!mkdir -p \"$unzip_path\"\n",
        "\n",
        "# Unzip the dataset\n",
        "with zipfile.ZipFile(zip_path, 'r') as zip_ref:\n",
        "    zip_ref.extractall(unzip_path)\n",
        "\n",
        "print('Dataset has been successfully unzipped.')\n"
      ],
      "metadata": {
        "colab": {
          "base_uri": "https://localhost:8080/"
        },
        "id": "l5cLQxJHkCeN",
        "outputId": "fde3feed-1cd2-47aa-eeb3-ce47f96ae0ec"
      },
      "execution_count": 3,
      "outputs": [
        {
          "output_type": "stream",
          "name": "stdout",
          "text": [
            "Dataset has been successfully unzipped.\n"
          ]
        }
      ]
    },
    {
      "cell_type": "code",
      "source": [
        "import numpy as np\n",
        "import pandas as pd\n",
        "import json\n",
        "\n",
        "import matplotlib.pyplot as plt\n",
        "import seaborn as sns\n",
        "import plotly.express as px\n",
        "import plotly.offline as pyo"
      ],
      "metadata": {
        "id": "_q8VQjwqmrWr"
      },
      "execution_count": 3,
      "outputs": []
    },
    {
      "cell_type": "code",
      "source": [
        "\n",
        "\n",
        "json_file_path = '/content/dataset/data.json'  # Replace with the actual path to your JSON file\n",
        "\n",
        "# Opening JSON file\n",
        "f = open('/content/dataset/data.json')\n",
        "#f = open('Swiggy/data.json')\n",
        "\n",
        "\n",
        "# returns JSON object as a dictionary\n",
        "data = json.load(f)\n",
        "\n",
        "#print(data.keys())\n",
        "\n",
        "f.close()\n",
        "\n",
        "\n"
      ],
      "metadata": {
        "id": "L-rQH29wkamM"
      },
      "execution_count": 4,
      "outputs": []
    },
    {
      "cell_type": "code",
      "source": [
        "type(data)"
      ],
      "metadata": {
        "colab": {
          "base_uri": "https://localhost:8080/"
        },
        "id": "RBLw_Pf-nbUU",
        "outputId": "833aae95-ec66-4b96-c658-c1c49264546b"
      },
      "execution_count": 5,
      "outputs": [
        {
          "output_type": "execute_result",
          "data": {
            "text/plain": [
              "dict"
            ]
          },
          "metadata": {},
          "execution_count": 5
        }
      ]
    },
    {
      "cell_type": "code",
      "source": [
        "Cities = list(data.keys())\n",
        "len(Cities)"
      ],
      "metadata": {
        "colab": {
          "base_uri": "https://localhost:8080/"
        },
        "id": "WZWn2asPneql",
        "outputId": "380c5343-c821-490b-d5a7-7a161d2fdb1e"
      },
      "execution_count": 6,
      "outputs": [
        {
          "output_type": "execute_result",
          "data": {
            "text/plain": [
              "623"
            ]
          },
          "metadata": {},
          "execution_count": 6
        }
      ]
    },
    {
      "cell_type": "code",
      "source": [
        "c = Cities[453]\n",
        "\n",
        "print('City Name :',c)\n",
        "\n",
        "#print(data[c].keys())\n",
        "print('Link :',data[c]['link'])\n",
        "id = list(data[c]['restaurants'].keys())\n",
        "print('First Restaurant id            :',id[0])\n",
        "# print(data[c]['restaurants'][id[0]].keys())\n",
        "print('First Restaurant Name          :', data[c]['restaurants'][id[0]]['name'])\n",
        "print('First Restaurant Rating        :', data[c]['restaurants'][id[0]]['rating'])\n",
        "print('First Restaurant Rating_Counts :', data[c]['restaurants'][id[0]]['rating_count'])\n",
        "print('First Restaurant Cost          :', data[c]['restaurants'][id[0]]['cost'])\n",
        "print('First Restaurant Address       :', data[c]['restaurants'][id[0]]['address'])\n",
        "print('First Restaurant Cuisine       :', data[c]['restaurants'][id[0]]['cuisine'])\n",
        "print('First Restaurant License No.   :', data[c]['restaurants'][id[0]]['lic_no'])\n",
        "#print('First Restaurant Menu          :', Menu)\n",
        "\n",
        "Menu = list(data[c]['restaurants'][id[0]]['menu'].keys())\n",
        "print('*'*45,data[c]['restaurants'][id[0]]['name'],',',c,'- Menu','*'*45)\n",
        "\n",
        "for item in Menu:\n",
        "    print(item)\n",
        "    Sub_menu = list(data[c]['restaurants'][id[0]]['menu'][item].keys())\n",
        "    for sub_item in Sub_menu :\n",
        "        print(sub_item,'>>> Price :',data[c]['restaurants'][id[0]]['menu'][item][sub_item]['price'], end =' | ')\n",
        "        print('veg_or_non_veg :',data[c]['restaurants'][id[0]]['menu'][item][sub_item]['veg_or_non_veg'])\n",
        "    print('-'*100)\n",
        "\n",
        "\n",
        "print('First Restaurant Link          :',data[c]['restaurants'][id[0]]['link'])"
      ],
      "metadata": {
        "colab": {
          "base_uri": "https://localhost:8080/"
        },
        "id": "MzBh1iJ2nslh",
        "outputId": "d08a45a6-508c-47cc-db27-9a1aad0867d8"
      },
      "execution_count": 7,
      "outputs": [
        {
          "output_type": "stream",
          "name": "stdout",
          "text": [
            "City Name : Patna\n",
            "Link : https://www.swiggy.com/city/patna\n",
            "First Restaurant id            : 254859\n",
            "First Restaurant Name          : Biryani By Kilo\n",
            "First Restaurant Rating        : 4.1\n",
            "First Restaurant Rating_Counts : 500+ ratings\n",
            "First Restaurant Cost          : ₹ 700\n",
            "First Restaurant Address       : Biryani By Kilo, Commercial First Floor, 21, Patliputra Colony, Opp. UNICEF OFFICE, Patna- 800013, Bihar\n",
            "First Restaurant Cuisine       : Biryani,Mughlai\n",
            "First Restaurant License No.   : 10420000000041\n",
            "********************************************* Biryani By Kilo , Patna - Menu *********************************************\n",
            "Recommended\n",
            "Peshawari Chole Biryani [1/2 Kg] Serves 1-2 >>> Price : 370 | veg_or_non_veg : Veg\n",
            "Chicken Hyderabadi Dum Biryani [1/2 Kg] Serves 1-2 >>> Price : 485 | veg_or_non_veg : Non-veg\n",
            "Chicken Boneless Dum Biryani [1/2 Kg] Serves 1-2 >>> Price : 545 | veg_or_non_veg : Non-veg\n",
            "Malamaal Murg Dum Biryani [1/2 Kg] Serves 1-2 >>> Price : 625 | veg_or_non_veg : Non-veg\n",
            "Mutton Hyderabadi Dum Biryani [1/2 Kg] Serves 1-2 >>> Price : 665 | veg_or_non_veg : Non-veg\n",
            "Kolkata Chicken Biryani - [1Kg] Serves 2-3 >>> Price : 775 | veg_or_non_veg : Non-veg\n",
            "----------------------------------------------------------------------------------------------------\n",
            "Newly Launched\n",
            "Prawns 65 Biryani (1/2 Kg) >>> Price : 595 | veg_or_non_veg : Non-veg\n",
            "Fish Biryani (1/2 Kg) >>> Price : 585 | veg_or_non_veg : Non-veg\n",
            "Prawns 65 (8 Pcs) >>> Price : 425 | veg_or_non_veg : Non-veg\n",
            "----------------------------------------------------------------------------------------------------\n",
            "Single Serves\n",
            "Veg Hyderabadi Biryani - Single Portion >>> Price : 220 | veg_or_non_veg : Veg\n",
            "Chicken Lucknowi Biryani - Single Portion >>> Price : 255 | veg_or_non_veg : Non-veg\n",
            "Chicken Hyderabadi Boneless Biryani - Single Portion >>> Price : 260 | veg_or_non_veg : Non-veg\n",
            "----------------------------------------------------------------------------------------------------\n",
            "Hyderabadi Biryani\n",
            "Peshawari Chole Biryani [1/2 Kg] Serves 1-2 >>> Price : 370 | veg_or_non_veg : Veg\n",
            "Chicken Hyderabadi Dum Biryani [1/2 Kg] Serves 1-2 >>> Price : 485 | veg_or_non_veg : Non-veg\n",
            "Chicken Hyderabadi Dum Biryani -[1 Kg] Serves 2-3 >>> Price : 795 | veg_or_non_veg : Non-veg\n",
            "Chicken Boneless Dum Biryani [1/2 Kg] Serves 1-2 >>> Price : 545 | veg_or_non_veg : Non-veg\n",
            "Malamaal Murg Dum Biryani [1/2 Kg] Serves 1-2 >>> Price : 625 | veg_or_non_veg : Non-veg\n",
            "Mutton Hyderabadi Dum Biryani [1/2 Kg] Serves 1-2 >>> Price : 665 | veg_or_non_veg : Non-veg\n",
            "Rara Mutton Biryani [1/2kg] Serves 1-2 >>> Price : 665 | veg_or_non_veg : Non-veg\n",
            "----------------------------------------------------------------------------------------------------\n",
            "Lucknowi Biryani\n",
            "Chicken Lucknowi Biryani [1/2Kg] Serves 1-2 >>> Price : 485 | veg_or_non_veg : Non-veg\n",
            "Chicken Lucknowi Biryani -[1 Kg] Serves 2-3 >>> Price : 795 | veg_or_non_veg : Non-veg\n",
            "Mutton Lucknowi Biryani [1/2 Kg] Serves 1-2 >>> Price : 665 | veg_or_non_veg : Non-veg\n",
            "----------------------------------------------------------------------------------------------------\n",
            "Kolkata Biryani\n",
            "Kolkata Chicken Biryani - [1Kg] Serves 2-3 >>> Price : 775 | veg_or_non_veg : Non-veg\n",
            "Kolkata Mutton Biryani - [1Kg] Serves 2-3 >>> Price : 895 | veg_or_non_veg : Non-veg\n",
            "----------------------------------------------------------------------------------------------------\n",
            "Kebabs\n",
            "Mutton Galouti (4pcs) >>> Price : 325 | veg_or_non_veg : Non-veg\n",
            "Veg Galouti (4pcs) >>> Price : 165 | veg_or_non_veg : Veg\n",
            "Paneer 65 (10pcs) >>> Price : 215 | veg_or_non_veg : Veg\n",
            "Chicken Ghee Roast (5pcs) >>> Price : 225 | veg_or_non_veg : Non-veg\n",
            "Chicken Seekh Kebab (8pcs) >>> Price : 225 | veg_or_non_veg : Non-veg\n",
            "----------------------------------------------------------------------------------------------------\n",
            "Korma & Curries\n",
            "Chicken Korma - 250 gms >>> Price : 275 | veg_or_non_veg : Non-veg\n",
            "Paneer Nawabi - 250 gms >>> Price : 255 | veg_or_non_veg : Veg\n",
            "Dum Nihari Gosht [350gms] >>> Price : 395 | veg_or_non_veg : Non-veg\n",
            "----------------------------------------------------------------------------------------------------\n",
            "Platter\n",
            "Veg Platter >>> Price : 569 | veg_or_non_veg : Veg\n",
            "Non Veg Platter >>> Price : 729 | veg_or_non_veg : Non-veg\n",
            "----------------------------------------------------------------------------------------------------\n",
            "Celebration Combos (Save Upto 31%)\n",
            "Veg Celebration Combo >>> Price : 1499 | veg_or_non_veg : Veg\n",
            "Chicken Celebration Combo >>> Price : 1899 | veg_or_non_veg : Non-veg\n",
            "----------------------------------------------------------------------------------------------------\n",
            "Desserts & Beverages\n",
            "Imli Adraki Lemonade >>> Price : 75 | veg_or_non_veg : Veg\n",
            "Gulab Jamun with Rabri >>> Price : 165 | veg_or_non_veg : Veg\n",
            "Pepsi (500ml) >>> Price : 55 | veg_or_non_veg : Veg\n",
            "Matka Phirni [1/2 Kg] >>> Price : 295 | veg_or_non_veg : Veg\n",
            "Masala Shikanji >>> Price : 90.50 | veg_or_non_veg : Veg\n",
            "----------------------------------------------------------------------------------------------------\n",
            "Breads & Extras\n",
            "Rumali Roti >>> Price : 40 | veg_or_non_veg : Veg\n",
            "Raita >>> Price : 60 | veg_or_non_veg : Veg\n",
            "Ulte Tawa Ka Parantha >>> Price : 65 | veg_or_non_veg : Veg\n",
            "Masala Curry >>> Price : 70 | veg_or_non_veg : Veg\n",
            "----------------------------------------------------------------------------------------------------\n",
            "First Restaurant Link          : https://www.swiggy.com/restaurants/biryani-by-kilo-patliputra-colony-patna-254859\n"
          ]
        }
      ]
    },
    {
      "cell_type": "code",
      "source": [
        "Data = pd.DataFrame()                               # Create an Empty Dataframe\n",
        "\n",
        "for city in Cities:\n",
        "    try:\n",
        "        # Convert the city-wise restaurant data to pandas Dataframe\n",
        "        DF = pd.DataFrame(data[city]['restaurants']).T\n",
        "\n",
        "        # add City column for each restaurants in that city\n",
        "        City = [city for i in range(DF.shape[0])]\n",
        "        DF['City'] = City\n",
        "\n",
        "        # Because no sub-region so considering city as sub-region\n",
        "        SubRegion = City\n",
        "        DF['SubRegion'] = SubRegion\n",
        "\n",
        "        # Concatenate to main Dataframe\n",
        "        Data = pd.concat([Data,DF])\n",
        "\n",
        "    except:\n",
        "\n",
        "        Subregions = list(data[city].keys())\n",
        "        for region in Subregions:\n",
        "\n",
        "            # Convert the city-wise restaurant data to pandas Dataframe\n",
        "            DF = pd.DataFrame(data[city][region]['restaurants']).T\n",
        "\n",
        "            # City\n",
        "            City = [city for i in range(DF.shape[0])]\n",
        "            # Add City column for each restaurants in that city\n",
        "            DF['City'] = City\n",
        "\n",
        "            # Sub-region\n",
        "            SubRegion = [region for i in range(DF.shape[0])]\n",
        "\n",
        "            # add sub-region column for each restaurants in that city\n",
        "            DF['SubRegion'] = SubRegion\n",
        "            Data = pd.concat([Data,DF])\n",
        "\n",
        "Data.shape"
      ],
      "metadata": {
        "colab": {
          "base_uri": "https://localhost:8080/"
        },
        "id": "9BmqKi8EomQH",
        "outputId": "20fea050-3424-40a9-afca-83e4d63ce206"
      },
      "execution_count": 8,
      "outputs": [
        {
          "output_type": "execute_result",
          "data": {
            "text/plain": [
              "(181404, 13)"
            ]
          },
          "metadata": {},
          "execution_count": 8
        }
      ]
    },
    {
      "cell_type": "code",
      "source": [
        "def Menu(Data, i):\n",
        "    Menu = list(Data.menu[i].keys())\n",
        "    print('*'*35,Data['name'][i],',',Data['SubRegion'][i],Data['City'][i],'- Menu','*'*35)\n",
        "\n",
        "    for item in Menu:\n",
        "        print(item)\n",
        "        Sub_menu = list(Data.menu[i][item].keys())\n",
        "        for sub_item in Sub_menu :\n",
        "            print(sub_item,'>>> Price :',Data.menu[i][item][sub_item]['price'], end =' | ')\n",
        "            print('veg_or_non_veg :',Data.menu[i][item][sub_item]['veg_or_non_veg'])\n",
        "        print('-'*100)\n",
        "\n",
        "Menu(Data, 11223)"
      ],
      "metadata": {
        "colab": {
          "base_uri": "https://localhost:8080/"
        },
        "id": "MfZblBQZq46C",
        "outputId": "024d7eab-4f2b-4efc-d345-3d28b24a11cb"
      },
      "execution_count": 12,
      "outputs": [
        {
          "output_type": "stream",
          "name": "stdout",
          "text": [
            "*********************************** Food Decker , Koramangala Bangalore - Menu ***********************************\n",
            "Pasta\n",
            "Fried Chicken Maggi >>> Price : 100 | veg_or_non_veg : Non-veg\n",
            "Fried Veg Maggi >>> Price : 80 | veg_or_non_veg : Veg\n",
            "Egg Maggi >>> Price : 80 | veg_or_non_veg : Non-veg\n",
            "Veg Maggi >>> Price : 60 | veg_or_non_veg : Veg\n",
            "----------------------------------------------------------------------------------------------------\n",
            "Sandwiches\n",
            "Chicken Fried Sandwich >>> Price : 150 | veg_or_non_veg : Non-veg\n",
            "Chicken Sandwich >>> Price : 100 | veg_or_non_veg : Non-veg\n",
            "Bread Butter Cheese >>> Price : 60 | veg_or_non_veg : Veg\n",
            "Aloo Cheese Sandwich >>> Price : 100 | veg_or_non_veg : Veg\n",
            "Veg  Cheese Grill Sandwich >>> Price : 100 | veg_or_non_veg : Veg\n",
            "Veg Sandwich >>> Price : 80 | veg_or_non_veg : Veg\n",
            "----------------------------------------------------------------------------------------------------\n",
            "Rolls\n",
            "Chowmein Roll >>> Price : 100 | veg_or_non_veg : Veg\n",
            "Malai Tikka Roll >>> Price : 120 | veg_or_non_veg : Veg\n",
            "Aloo Roll >>> Price : 80 | veg_or_non_veg : Veg\n",
            "Roll Paneer >>> Price : 70 | veg_or_non_veg : Veg\n",
            "Veg Loaded Roll >>> Price : 100 | veg_or_non_veg : Veg\n",
            "Veg Roll >>> Price : 80 | veg_or_non_veg : Veg\n",
            "Paneer & Egg Roll >>> Price : 90 | veg_or_non_veg : Non-veg\n",
            "Double Egg Roll >>> Price : 120 | veg_or_non_veg : Non-veg\n",
            "Egg Roll >>> Price : 80 | veg_or_non_veg : Non-veg\n",
            "----------------------------------------------------------------------------------------------------\n",
            "Milkshakes\n",
            "Dark Chocolate Milkshake >>> Price : 140 | veg_or_non_veg : Veg\n",
            "Vanilla Chocolate Milkshake >>> Price : 110 | veg_or_non_veg : Veg\n",
            "Cold Coffee >>> Price : 90 | veg_or_non_veg : Veg\n",
            "Food Decker Milkshake >>> Price : 120 | veg_or_non_veg : Veg\n",
            "Black Current Milkshake >>> Price : 110 | veg_or_non_veg : Veg\n",
            "Oreo Milkshake >>> Price : 110 | veg_or_non_veg : Veg\n",
            "Choco Milkshakes >>> Price : 110 | veg_or_non_veg : Veg\n",
            "Dates Milkshakes >>> Price : 110 | veg_or_non_veg : Veg\n",
            "----------------------------------------------------------------------------------------------------\n"
          ]
        }
      ]
    },
    {
      "cell_type": "code",
      "source": [
        "### Save our original Dataframe\n",
        "Data.to_csv('Swiggy_data.csv')"
      ],
      "metadata": {
        "id": "ePs4YfVlsVX0"
      },
      "execution_count": 13,
      "outputs": []
    },
    {
      "cell_type": "code",
      "source": [
        "# Read the saved dataframe\n",
        "df = pd.read_csv('Swiggy_data.csv')"
      ],
      "metadata": {
        "id": "52A5oiwisZhJ"
      },
      "execution_count": 14,
      "outputs": []
    },
    {
      "cell_type": "code",
      "source": [
        "menus = []\n",
        "for i in range(Data.shape[0]):\n",
        "    try:\n",
        "        menus.append(', '.join([key for key in Data.menu[i].keys()]))\n",
        "    except:\n",
        "        menus.append(np.NaN)\n",
        "print(len(menus))\n",
        "print(df.shape[0])\n",
        "\n",
        "df['menu'] = menus"
      ],
      "metadata": {
        "colab": {
          "base_uri": "https://localhost:8080/"
        },
        "id": "tRJECUhRsmtZ",
        "outputId": "5bbb52c0-8ce2-4777-87df-74e72ad65a0c"
      },
      "execution_count": 15,
      "outputs": [
        {
          "output_type": "stream",
          "name": "stdout",
          "text": [
            "181404\n",
            "181404\n"
          ]
        }
      ]
    },
    {
      "cell_type": "code",
      "source": [
        "#Data Cleaning\n",
        "df = df.rename(columns={'Unnamed: 0':'id', 'name':'Restaurant'})\n",
        "df.drop_duplicates(subset='id', keep='first', inplace = True)\n",
        "#df.set_index('id', inplace=True)\n",
        "df.shape"
      ],
      "metadata": {
        "colab": {
          "base_uri": "https://localhost:8080/"
        },
        "id": "umFxGusmsrSf",
        "outputId": "d2a26b9d-f38d-40ca-a3a6-ec41413ff4c9"
      },
      "execution_count": 16,
      "outputs": [
        {
          "output_type": "execute_result",
          "data": {
            "text/plain": [
              "(160621, 14)"
            ]
          },
          "metadata": {},
          "execution_count": 16
        }
      ]
    },
    {
      "cell_type": "code",
      "source": [
        "df = df.loc[:,['id','Restaurant','City','SubRegion','cost','cuisine','rating','rating_count','lic_no',\n",
        "               'address','menu','link', 'type', 'price']]\n",
        "df.head(10)"
      ],
      "metadata": {
        "colab": {
          "base_uri": "https://localhost:8080/",
          "height": 1000
        },
        "id": "j47-fE4MswhX",
        "outputId": "209ed73f-0951-49ed-ce96-33d73fc61f71"
      },
      "execution_count": 18,
      "outputs": [
        {
          "output_type": "execute_result",
          "data": {
            "text/plain": [
              "       id                 Restaurant    City SubRegion   cost  \\\n",
              "0  567335             AB FOODS POINT  Abohar    Abohar  ₹ 200   \n",
              "1  531342          Janta Sweet House  Abohar    Abohar  ₹ 200   \n",
              "2  158203          theka coffee desi  Abohar    Abohar  ₹ 100   \n",
              "3  187912                  Singh Hut  Abohar    Abohar  ₹ 250   \n",
              "4  543530              GRILL MASTERS  Abohar    Abohar  ₹ 250   \n",
              "5  158204                  Sam Uncle  Abohar    Abohar  ₹ 200   \n",
              "6  156588           shere punjab veg  Abohar    Abohar  ₹ 150   \n",
              "7  244866  Shri Balaji Vaishno Dhaba  Abohar    Abohar  ₹ 100   \n",
              "8  156602   Hinglaj Kachori Bhandhar  Abohar    Abohar  ₹ 100   \n",
              "9  158193                  yummy hub  Abohar    Abohar  ₹ 200   \n",
              "\n",
              "                      cuisine rating     rating_count          lic_no  \\\n",
              "0            Beverages,Pizzas     --  Too Few Ratings  22122652000138   \n",
              "1               Sweets,Bakery    4.4      50+ ratings  12117201000112   \n",
              "2                   Beverages    3.8     100+ ratings  22121652000190   \n",
              "3            Fast Food,Indian    3.7      20+ ratings  22119652000167   \n",
              "4  Italian-American,Fast Food     --  Too Few Ratings  12122201000053   \n",
              "5                 Continental    3.6      20+ ratings  22119652000052   \n",
              "6                North Indian    4.0     100+ ratings  22120652000021   \n",
              "7                North Indian     --  Too Few Ratings  22119652000389   \n",
              "8                Snacks,Chaat    4.2      20+ ratings  22119652000042   \n",
              "9                      Indian     --  Too Few Ratings  22119652000045   \n",
              "\n",
              "                                             address  \\\n",
              "0  AB FOODS POINT, NEAR RISHI NARANG DENTAL CLINI...   \n",
              "1  Janta Sweet House, Bazar No.9, Circullar Road,...   \n",
              "2         theka coffee desi, sahtiya sadan road city   \n",
              "3    Singh Hut, CIRCULAR ROAD NEAR NEHRU PARK ABOHAR   \n",
              "4  GRILL MASTERS, ADA Heights, Abohar - Hanumanga...   \n",
              "5  Sam Uncle, hanumangarh road near raja bajaj sh...   \n",
              "6  shere punjab veg, major surinder chowk near ve...   \n",
              "7  Shri Balaji Vaishno Dhaba, St no 13,6th chowk,...   \n",
              "8  Hinglaj Kachori Bhandhar, street no 11 circula...   \n",
              "9  yummy hub, hanumangarh road near dr naveen set...   \n",
              "\n",
              "                                                menu  \\\n",
              "0  Burger, Pasta Must Try, Chiness Appetizer, Fri...   \n",
              "1  Breakfast, Drinks (beverages), Combos, Sweets,...   \n",
              "2  Recommended, Family Binge Combos, Hot Coffee, ...   \n",
              "3  Recommended, Soya Chaap, Gravy Item, Chinese H...   \n",
              "4  Veg Burgers, Non-Veg Burgers, Veg Wraps, Non V...   \n",
              "5  Recommended, Burgers, Sandwiches, Pizza's, Swe...   \n",
              "6  Recommended, Family Binge Combos, Vegetable, P...   \n",
              "7                  Main Course, Raita, Indian Breads   \n",
              "8                                Recommended, Snacks   \n",
              "9                                    Indian, Patties   \n",
              "\n",
              "                                                link type price  \n",
              "0  https://www.swiggy.com/restaurants/ab-foods-po...  NaN   NaN  \n",
              "1  https://www.swiggy.com/restaurants/janta-sweet...  NaN   NaN  \n",
              "2  https://www.swiggy.com/restaurants/theka-coffe...  NaN   NaN  \n",
              "3  https://www.swiggy.com/restaurants/singh-hut-n...  NaN   NaN  \n",
              "4  https://www.swiggy.com/restaurants/grill-maste...  NaN   NaN  \n",
              "5  https://www.swiggy.com/restaurants/sam-uncle-c...  NaN   NaN  \n",
              "6  https://www.swiggy.com/restaurants/shere-punja...  NaN   NaN  \n",
              "7  https://www.swiggy.com/restaurants/shri-balaji...  NaN   NaN  \n",
              "8  https://www.swiggy.com/restaurants/hinglaj-kac...  NaN   NaN  \n",
              "9  https://www.swiggy.com/restaurants/yummy-hub-c...  NaN   NaN  "
            ],
            "text/html": [
              "\n",
              "\n",
              "  <div id=\"df-5df57553-8c90-4709-aecf-6f5dcadd9e0f\">\n",
              "    <div class=\"colab-df-container\">\n",
              "      <div>\n",
              "<style scoped>\n",
              "    .dataframe tbody tr th:only-of-type {\n",
              "        vertical-align: middle;\n",
              "    }\n",
              "\n",
              "    .dataframe tbody tr th {\n",
              "        vertical-align: top;\n",
              "    }\n",
              "\n",
              "    .dataframe thead th {\n",
              "        text-align: right;\n",
              "    }\n",
              "</style>\n",
              "<table border=\"1\" class=\"dataframe\">\n",
              "  <thead>\n",
              "    <tr style=\"text-align: right;\">\n",
              "      <th></th>\n",
              "      <th>id</th>\n",
              "      <th>Restaurant</th>\n",
              "      <th>City</th>\n",
              "      <th>SubRegion</th>\n",
              "      <th>cost</th>\n",
              "      <th>cuisine</th>\n",
              "      <th>rating</th>\n",
              "      <th>rating_count</th>\n",
              "      <th>lic_no</th>\n",
              "      <th>address</th>\n",
              "      <th>menu</th>\n",
              "      <th>link</th>\n",
              "      <th>type</th>\n",
              "      <th>price</th>\n",
              "    </tr>\n",
              "  </thead>\n",
              "  <tbody>\n",
              "    <tr>\n",
              "      <th>0</th>\n",
              "      <td>567335</td>\n",
              "      <td>AB FOODS POINT</td>\n",
              "      <td>Abohar</td>\n",
              "      <td>Abohar</td>\n",
              "      <td>₹ 200</td>\n",
              "      <td>Beverages,Pizzas</td>\n",
              "      <td>--</td>\n",
              "      <td>Too Few Ratings</td>\n",
              "      <td>22122652000138</td>\n",
              "      <td>AB FOODS POINT, NEAR RISHI NARANG DENTAL CLINI...</td>\n",
              "      <td>Burger, Pasta Must Try, Chiness Appetizer, Fri...</td>\n",
              "      <td>https://www.swiggy.com/restaurants/ab-foods-po...</td>\n",
              "      <td>NaN</td>\n",
              "      <td>NaN</td>\n",
              "    </tr>\n",
              "    <tr>\n",
              "      <th>1</th>\n",
              "      <td>531342</td>\n",
              "      <td>Janta Sweet House</td>\n",
              "      <td>Abohar</td>\n",
              "      <td>Abohar</td>\n",
              "      <td>₹ 200</td>\n",
              "      <td>Sweets,Bakery</td>\n",
              "      <td>4.4</td>\n",
              "      <td>50+ ratings</td>\n",
              "      <td>12117201000112</td>\n",
              "      <td>Janta Sweet House, Bazar No.9, Circullar Road,...</td>\n",
              "      <td>Breakfast, Drinks (beverages), Combos, Sweets,...</td>\n",
              "      <td>https://www.swiggy.com/restaurants/janta-sweet...</td>\n",
              "      <td>NaN</td>\n",
              "      <td>NaN</td>\n",
              "    </tr>\n",
              "    <tr>\n",
              "      <th>2</th>\n",
              "      <td>158203</td>\n",
              "      <td>theka coffee desi</td>\n",
              "      <td>Abohar</td>\n",
              "      <td>Abohar</td>\n",
              "      <td>₹ 100</td>\n",
              "      <td>Beverages</td>\n",
              "      <td>3.8</td>\n",
              "      <td>100+ ratings</td>\n",
              "      <td>22121652000190</td>\n",
              "      <td>theka coffee desi, sahtiya sadan road city</td>\n",
              "      <td>Recommended, Family Binge Combos, Hot Coffee, ...</td>\n",
              "      <td>https://www.swiggy.com/restaurants/theka-coffe...</td>\n",
              "      <td>NaN</td>\n",
              "      <td>NaN</td>\n",
              "    </tr>\n",
              "    <tr>\n",
              "      <th>3</th>\n",
              "      <td>187912</td>\n",
              "      <td>Singh Hut</td>\n",
              "      <td>Abohar</td>\n",
              "      <td>Abohar</td>\n",
              "      <td>₹ 250</td>\n",
              "      <td>Fast Food,Indian</td>\n",
              "      <td>3.7</td>\n",
              "      <td>20+ ratings</td>\n",
              "      <td>22119652000167</td>\n",
              "      <td>Singh Hut, CIRCULAR ROAD NEAR NEHRU PARK ABOHAR</td>\n",
              "      <td>Recommended, Soya Chaap, Gravy Item, Chinese H...</td>\n",
              "      <td>https://www.swiggy.com/restaurants/singh-hut-n...</td>\n",
              "      <td>NaN</td>\n",
              "      <td>NaN</td>\n",
              "    </tr>\n",
              "    <tr>\n",
              "      <th>4</th>\n",
              "      <td>543530</td>\n",
              "      <td>GRILL MASTERS</td>\n",
              "      <td>Abohar</td>\n",
              "      <td>Abohar</td>\n",
              "      <td>₹ 250</td>\n",
              "      <td>Italian-American,Fast Food</td>\n",
              "      <td>--</td>\n",
              "      <td>Too Few Ratings</td>\n",
              "      <td>12122201000053</td>\n",
              "      <td>GRILL MASTERS, ADA Heights, Abohar - Hanumanga...</td>\n",
              "      <td>Veg Burgers, Non-Veg Burgers, Veg Wraps, Non V...</td>\n",
              "      <td>https://www.swiggy.com/restaurants/grill-maste...</td>\n",
              "      <td>NaN</td>\n",
              "      <td>NaN</td>\n",
              "    </tr>\n",
              "    <tr>\n",
              "      <th>5</th>\n",
              "      <td>158204</td>\n",
              "      <td>Sam Uncle</td>\n",
              "      <td>Abohar</td>\n",
              "      <td>Abohar</td>\n",
              "      <td>₹ 200</td>\n",
              "      <td>Continental</td>\n",
              "      <td>3.6</td>\n",
              "      <td>20+ ratings</td>\n",
              "      <td>22119652000052</td>\n",
              "      <td>Sam Uncle, hanumangarh road near raja bajaj sh...</td>\n",
              "      <td>Recommended, Burgers, Sandwiches, Pizza's, Swe...</td>\n",
              "      <td>https://www.swiggy.com/restaurants/sam-uncle-c...</td>\n",
              "      <td>NaN</td>\n",
              "      <td>NaN</td>\n",
              "    </tr>\n",
              "    <tr>\n",
              "      <th>6</th>\n",
              "      <td>156588</td>\n",
              "      <td>shere punjab veg</td>\n",
              "      <td>Abohar</td>\n",
              "      <td>Abohar</td>\n",
              "      <td>₹ 150</td>\n",
              "      <td>North Indian</td>\n",
              "      <td>4.0</td>\n",
              "      <td>100+ ratings</td>\n",
              "      <td>22120652000021</td>\n",
              "      <td>shere punjab veg, major surinder chowk near ve...</td>\n",
              "      <td>Recommended, Family Binge Combos, Vegetable, P...</td>\n",
              "      <td>https://www.swiggy.com/restaurants/shere-punja...</td>\n",
              "      <td>NaN</td>\n",
              "      <td>NaN</td>\n",
              "    </tr>\n",
              "    <tr>\n",
              "      <th>7</th>\n",
              "      <td>244866</td>\n",
              "      <td>Shri Balaji Vaishno Dhaba</td>\n",
              "      <td>Abohar</td>\n",
              "      <td>Abohar</td>\n",
              "      <td>₹ 100</td>\n",
              "      <td>North Indian</td>\n",
              "      <td>--</td>\n",
              "      <td>Too Few Ratings</td>\n",
              "      <td>22119652000389</td>\n",
              "      <td>Shri Balaji Vaishno Dhaba, St no 13,6th chowk,...</td>\n",
              "      <td>Main Course, Raita, Indian Breads</td>\n",
              "      <td>https://www.swiggy.com/restaurants/shri-balaji...</td>\n",
              "      <td>NaN</td>\n",
              "      <td>NaN</td>\n",
              "    </tr>\n",
              "    <tr>\n",
              "      <th>8</th>\n",
              "      <td>156602</td>\n",
              "      <td>Hinglaj Kachori Bhandhar</td>\n",
              "      <td>Abohar</td>\n",
              "      <td>Abohar</td>\n",
              "      <td>₹ 100</td>\n",
              "      <td>Snacks,Chaat</td>\n",
              "      <td>4.2</td>\n",
              "      <td>20+ ratings</td>\n",
              "      <td>22119652000042</td>\n",
              "      <td>Hinglaj Kachori Bhandhar, street no 11 circula...</td>\n",
              "      <td>Recommended, Snacks</td>\n",
              "      <td>https://www.swiggy.com/restaurants/hinglaj-kac...</td>\n",
              "      <td>NaN</td>\n",
              "      <td>NaN</td>\n",
              "    </tr>\n",
              "    <tr>\n",
              "      <th>9</th>\n",
              "      <td>158193</td>\n",
              "      <td>yummy hub</td>\n",
              "      <td>Abohar</td>\n",
              "      <td>Abohar</td>\n",
              "      <td>₹ 200</td>\n",
              "      <td>Indian</td>\n",
              "      <td>--</td>\n",
              "      <td>Too Few Ratings</td>\n",
              "      <td>22119652000045</td>\n",
              "      <td>yummy hub, hanumangarh road near dr naveen set...</td>\n",
              "      <td>Indian, Patties</td>\n",
              "      <td>https://www.swiggy.com/restaurants/yummy-hub-c...</td>\n",
              "      <td>NaN</td>\n",
              "      <td>NaN</td>\n",
              "    </tr>\n",
              "  </tbody>\n",
              "</table>\n",
              "</div>\n",
              "      <button class=\"colab-df-convert\" onclick=\"convertToInteractive('df-5df57553-8c90-4709-aecf-6f5dcadd9e0f')\"\n",
              "              title=\"Convert this dataframe to an interactive table.\"\n",
              "              style=\"display:none;\">\n",
              "\n",
              "  <svg xmlns=\"http://www.w3.org/2000/svg\" height=\"24px\"viewBox=\"0 0 24 24\"\n",
              "       width=\"24px\">\n",
              "    <path d=\"M0 0h24v24H0V0z\" fill=\"none\"/>\n",
              "    <path d=\"M18.56 5.44l.94 2.06.94-2.06 2.06-.94-2.06-.94-.94-2.06-.94 2.06-2.06.94zm-11 1L8.5 8.5l.94-2.06 2.06-.94-2.06-.94L8.5 2.5l-.94 2.06-2.06.94zm10 10l.94 2.06.94-2.06 2.06-.94-2.06-.94-.94-2.06-.94 2.06-2.06.94z\"/><path d=\"M17.41 7.96l-1.37-1.37c-.4-.4-.92-.59-1.43-.59-.52 0-1.04.2-1.43.59L10.3 9.45l-7.72 7.72c-.78.78-.78 2.05 0 2.83L4 21.41c.39.39.9.59 1.41.59.51 0 1.02-.2 1.41-.59l7.78-7.78 2.81-2.81c.8-.78.8-2.07 0-2.86zM5.41 20L4 18.59l7.72-7.72 1.47 1.35L5.41 20z\"/>\n",
              "  </svg>\n",
              "      </button>\n",
              "\n",
              "\n",
              "\n",
              "    <div id=\"df-6cb3279e-9495-4d0b-b56e-c86a6339f11f\">\n",
              "      <button class=\"colab-df-quickchart\" onclick=\"quickchart('df-6cb3279e-9495-4d0b-b56e-c86a6339f11f')\"\n",
              "              title=\"Suggest charts.\"\n",
              "              style=\"display:none;\">\n",
              "\n",
              "<svg xmlns=\"http://www.w3.org/2000/svg\" height=\"24px\"viewBox=\"0 0 24 24\"\n",
              "     width=\"24px\">\n",
              "    <g>\n",
              "        <path d=\"M19 3H5c-1.1 0-2 .9-2 2v14c0 1.1.9 2 2 2h14c1.1 0 2-.9 2-2V5c0-1.1-.9-2-2-2zM9 17H7v-7h2v7zm4 0h-2V7h2v10zm4 0h-2v-4h2v4z\"/>\n",
              "    </g>\n",
              "</svg>\n",
              "      </button>\n",
              "    </div>\n",
              "\n",
              "<style>\n",
              "  .colab-df-quickchart {\n",
              "    background-color: #E8F0FE;\n",
              "    border: none;\n",
              "    border-radius: 50%;\n",
              "    cursor: pointer;\n",
              "    display: none;\n",
              "    fill: #1967D2;\n",
              "    height: 32px;\n",
              "    padding: 0 0 0 0;\n",
              "    width: 32px;\n",
              "  }\n",
              "\n",
              "  .colab-df-quickchart:hover {\n",
              "    background-color: #E2EBFA;\n",
              "    box-shadow: 0px 1px 2px rgba(60, 64, 67, 0.3), 0px 1px 3px 1px rgba(60, 64, 67, 0.15);\n",
              "    fill: #174EA6;\n",
              "  }\n",
              "\n",
              "  [theme=dark] .colab-df-quickchart {\n",
              "    background-color: #3B4455;\n",
              "    fill: #D2E3FC;\n",
              "  }\n",
              "\n",
              "  [theme=dark] .colab-df-quickchart:hover {\n",
              "    background-color: #434B5C;\n",
              "    box-shadow: 0px 1px 3px 1px rgba(0, 0, 0, 0.15);\n",
              "    filter: drop-shadow(0px 1px 2px rgba(0, 0, 0, 0.3));\n",
              "    fill: #FFFFFF;\n",
              "  }\n",
              "</style>\n",
              "\n",
              "    <script>\n",
              "      async function quickchart(key) {\n",
              "        const containerElement = document.querySelector('#' + key);\n",
              "        const charts = await google.colab.kernel.invokeFunction(\n",
              "            'suggestCharts', [key], {});\n",
              "      }\n",
              "    </script>\n",
              "\n",
              "      <script>\n",
              "\n",
              "function displayQuickchartButton(domScope) {\n",
              "  let quickchartButtonEl =\n",
              "    domScope.querySelector('#df-6cb3279e-9495-4d0b-b56e-c86a6339f11f button.colab-df-quickchart');\n",
              "  quickchartButtonEl.style.display =\n",
              "    google.colab.kernel.accessAllowed ? 'block' : 'none';\n",
              "}\n",
              "\n",
              "        displayQuickchartButton(document);\n",
              "      </script>\n",
              "      <style>\n",
              "    .colab-df-container {\n",
              "      display:flex;\n",
              "      flex-wrap:wrap;\n",
              "      gap: 12px;\n",
              "    }\n",
              "\n",
              "    .colab-df-convert {\n",
              "      background-color: #E8F0FE;\n",
              "      border: none;\n",
              "      border-radius: 50%;\n",
              "      cursor: pointer;\n",
              "      display: none;\n",
              "      fill: #1967D2;\n",
              "      height: 32px;\n",
              "      padding: 0 0 0 0;\n",
              "      width: 32px;\n",
              "    }\n",
              "\n",
              "    .colab-df-convert:hover {\n",
              "      background-color: #E2EBFA;\n",
              "      box-shadow: 0px 1px 2px rgba(60, 64, 67, 0.3), 0px 1px 3px 1px rgba(60, 64, 67, 0.15);\n",
              "      fill: #174EA6;\n",
              "    }\n",
              "\n",
              "    [theme=dark] .colab-df-convert {\n",
              "      background-color: #3B4455;\n",
              "      fill: #D2E3FC;\n",
              "    }\n",
              "\n",
              "    [theme=dark] .colab-df-convert:hover {\n",
              "      background-color: #434B5C;\n",
              "      box-shadow: 0px 1px 3px 1px rgba(0, 0, 0, 0.15);\n",
              "      filter: drop-shadow(0px 1px 2px rgba(0, 0, 0, 0.3));\n",
              "      fill: #FFFFFF;\n",
              "    }\n",
              "  </style>\n",
              "\n",
              "      <script>\n",
              "        const buttonEl =\n",
              "          document.querySelector('#df-5df57553-8c90-4709-aecf-6f5dcadd9e0f button.colab-df-convert');\n",
              "        buttonEl.style.display =\n",
              "          google.colab.kernel.accessAllowed ? 'block' : 'none';\n",
              "\n",
              "        async function convertToInteractive(key) {\n",
              "          const element = document.querySelector('#df-5df57553-8c90-4709-aecf-6f5dcadd9e0f');\n",
              "          const dataTable =\n",
              "            await google.colab.kernel.invokeFunction('convertToInteractive',\n",
              "                                                     [key], {});\n",
              "          if (!dataTable) return;\n",
              "\n",
              "          const docLinkHtml = 'Like what you see? Visit the ' +\n",
              "            '<a target=\"_blank\" href=https://colab.research.google.com/notebooks/data_table.ipynb>data table notebook</a>'\n",
              "            + ' to learn more about interactive tables.';\n",
              "          element.innerHTML = '';\n",
              "          dataTable['output_type'] = 'display_data';\n",
              "          await google.colab.output.renderOutput(dataTable, element);\n",
              "          const docLink = document.createElement('div');\n",
              "          docLink.innerHTML = docLinkHtml;\n",
              "          element.appendChild(docLink);\n",
              "        }\n",
              "      </script>\n",
              "    </div>\n",
              "  </div>\n"
            ]
          },
          "metadata": {},
          "execution_count": 18
        }
      ]
    },
    {
      "cell_type": "code",
      "source": [
        "Null = df.isnull().sum().reset_index().rename({0:'Null'}, axis = 1)\n",
        "Null['% Null'] = round((Null['Null']/df.shape[0])*100, 0)\n",
        "Null.sort_values(by='% Null', ascending = False).style.background_gradient()"
      ],
      "metadata": {
        "colab": {
          "base_uri": "https://localhost:8080/",
          "height": 488
        },
        "id": "5Ugqt1rTs55x",
        "outputId": "52fd8667-5c38-40e2-bb79-77facc38444c"
      },
      "execution_count": 19,
      "outputs": [
        {
          "output_type": "execute_result",
          "data": {
            "text/plain": [
              "<pandas.io.formats.style.Styler at 0x7d6e7ba123b0>"
            ],
            "text/html": [
              "<style type=\"text/css\">\n",
              "#T_70a29_row0_col1, #T_70a29_row0_col2, #T_70a29_row1_col1, #T_70a29_row1_col2 {\n",
              "  background-color: #023858;\n",
              "  color: #f1f1f1;\n",
              "}\n",
              "#T_70a29_row2_col1, #T_70a29_row3_col1, #T_70a29_row4_col1, #T_70a29_row6_col1, #T_70a29_row7_col1 {\n",
              "  background-color: #f3edf5;\n",
              "  color: #000000;\n",
              "}\n",
              "#T_70a29_row2_col2, #T_70a29_row3_col2, #T_70a29_row4_col2, #T_70a29_row5_col1, #T_70a29_row5_col2, #T_70a29_row6_col2 {\n",
              "  background-color: #f2ecf5;\n",
              "  color: #000000;\n",
              "}\n",
              "#T_70a29_row7_col2 {\n",
              "  background-color: #f4edf6;\n",
              "  color: #000000;\n",
              "}\n",
              "#T_70a29_row8_col1, #T_70a29_row8_col2, #T_70a29_row9_col1, #T_70a29_row9_col2, #T_70a29_row10_col1, #T_70a29_row10_col2, #T_70a29_row11_col1, #T_70a29_row11_col2, #T_70a29_row12_col1, #T_70a29_row12_col2, #T_70a29_row13_col1, #T_70a29_row13_col2 {\n",
              "  background-color: #fff7fb;\n",
              "  color: #000000;\n",
              "}\n",
              "</style>\n",
              "<table id=\"T_70a29\" class=\"dataframe\">\n",
              "  <thead>\n",
              "    <tr>\n",
              "      <th class=\"blank level0\" >&nbsp;</th>\n",
              "      <th id=\"T_70a29_level0_col0\" class=\"col_heading level0 col0\" >index</th>\n",
              "      <th id=\"T_70a29_level0_col1\" class=\"col_heading level0 col1\" >Null</th>\n",
              "      <th id=\"T_70a29_level0_col2\" class=\"col_heading level0 col2\" >% Null</th>\n",
              "    </tr>\n",
              "  </thead>\n",
              "  <tbody>\n",
              "    <tr>\n",
              "      <th id=\"T_70a29_level0_row0\" class=\"row_heading level0 row0\" >12</th>\n",
              "      <td id=\"T_70a29_row0_col0\" class=\"data row0 col0\" >type</td>\n",
              "      <td id=\"T_70a29_row0_col1\" class=\"data row0 col1\" >148591</td>\n",
              "      <td id=\"T_70a29_row0_col2\" class=\"data row0 col2\" >93.000000</td>\n",
              "    </tr>\n",
              "    <tr>\n",
              "      <th id=\"T_70a29_level0_row1\" class=\"row_heading level0 row1\" >13</th>\n",
              "      <td id=\"T_70a29_row1_col0\" class=\"data row1 col0\" >price</td>\n",
              "      <td id=\"T_70a29_row1_col1\" class=\"data row1 col1\" >148590</td>\n",
              "      <td id=\"T_70a29_row1_col2\" class=\"data row1 col2\" >93.000000</td>\n",
              "    </tr>\n",
              "    <tr>\n",
              "      <th id=\"T_70a29_level0_row2\" class=\"row_heading level0 row2\" >4</th>\n",
              "      <td id=\"T_70a29_row2_col0\" class=\"data row2 col0\" >cost</td>\n",
              "      <td id=\"T_70a29_row2_col1\" class=\"data row2 col1\" >12177</td>\n",
              "      <td id=\"T_70a29_row2_col2\" class=\"data row2 col2\" >8.000000</td>\n",
              "    </tr>\n",
              "    <tr>\n",
              "      <th id=\"T_70a29_level0_row3\" class=\"row_heading level0 row3\" >5</th>\n",
              "      <td id=\"T_70a29_row3_col0\" class=\"data row3 col0\" >cuisine</td>\n",
              "      <td id=\"T_70a29_row3_col1\" class=\"data row3 col1\" >12145</td>\n",
              "      <td id=\"T_70a29_row3_col2\" class=\"data row3 col2\" >8.000000</td>\n",
              "    </tr>\n",
              "    <tr>\n",
              "      <th id=\"T_70a29_level0_row4\" class=\"row_heading level0 row4\" >7</th>\n",
              "      <td id=\"T_70a29_row4_col0\" class=\"data row4 col0\" >rating_count</td>\n",
              "      <td id=\"T_70a29_row4_col1\" class=\"data row4 col1\" >12132</td>\n",
              "      <td id=\"T_70a29_row4_col2\" class=\"data row4 col2\" >8.000000</td>\n",
              "    </tr>\n",
              "    <tr>\n",
              "      <th id=\"T_70a29_level0_row5\" class=\"row_heading level0 row5\" >8</th>\n",
              "      <td id=\"T_70a29_row5_col0\" class=\"data row5 col0\" >lic_no</td>\n",
              "      <td id=\"T_70a29_row5_col1\" class=\"data row5 col1\" >12274</td>\n",
              "      <td id=\"T_70a29_row5_col2\" class=\"data row5 col2\" >8.000000</td>\n",
              "    </tr>\n",
              "    <tr>\n",
              "      <th id=\"T_70a29_level0_row6\" class=\"row_heading level0 row6\" >9</th>\n",
              "      <td id=\"T_70a29_row6_col0\" class=\"data row6 col0\" >address</td>\n",
              "      <td id=\"T_70a29_row6_col1\" class=\"data row6 col1\" >12132</td>\n",
              "      <td id=\"T_70a29_row6_col2\" class=\"data row6 col2\" >8.000000</td>\n",
              "    </tr>\n",
              "    <tr>\n",
              "      <th id=\"T_70a29_level0_row7\" class=\"row_heading level0 row7\" >10</th>\n",
              "      <td id=\"T_70a29_row7_col0\" class=\"data row7 col0\" >menu</td>\n",
              "      <td id=\"T_70a29_row7_col1\" class=\"data row7 col1\" >12031</td>\n",
              "      <td id=\"T_70a29_row7_col2\" class=\"data row7 col2\" >7.000000</td>\n",
              "    </tr>\n",
              "    <tr>\n",
              "      <th id=\"T_70a29_level0_row8\" class=\"row_heading level0 row8\" >0</th>\n",
              "      <td id=\"T_70a29_row8_col0\" class=\"data row8 col0\" >id</td>\n",
              "      <td id=\"T_70a29_row8_col1\" class=\"data row8 col1\" >0</td>\n",
              "      <td id=\"T_70a29_row8_col2\" class=\"data row8 col2\" >0.000000</td>\n",
              "    </tr>\n",
              "    <tr>\n",
              "      <th id=\"T_70a29_level0_row9\" class=\"row_heading level0 row9\" >1</th>\n",
              "      <td id=\"T_70a29_row9_col0\" class=\"data row9 col0\" >Restaurant</td>\n",
              "      <td id=\"T_70a29_row9_col1\" class=\"data row9 col1\" >101</td>\n",
              "      <td id=\"T_70a29_row9_col2\" class=\"data row9 col2\" >0.000000</td>\n",
              "    </tr>\n",
              "    <tr>\n",
              "      <th id=\"T_70a29_level0_row10\" class=\"row_heading level0 row10\" >2</th>\n",
              "      <td id=\"T_70a29_row10_col0\" class=\"data row10 col0\" >City</td>\n",
              "      <td id=\"T_70a29_row10_col1\" class=\"data row10 col1\" >0</td>\n",
              "      <td id=\"T_70a29_row10_col2\" class=\"data row10 col2\" >0.000000</td>\n",
              "    </tr>\n",
              "    <tr>\n",
              "      <th id=\"T_70a29_level0_row11\" class=\"row_heading level0 row11\" >3</th>\n",
              "      <td id=\"T_70a29_row11_col0\" class=\"data row11 col0\" >SubRegion</td>\n",
              "      <td id=\"T_70a29_row11_col1\" class=\"data row11 col1\" >0</td>\n",
              "      <td id=\"T_70a29_row11_col2\" class=\"data row11 col2\" >0.000000</td>\n",
              "    </tr>\n",
              "    <tr>\n",
              "      <th id=\"T_70a29_level0_row12\" class=\"row_heading level0 row12\" >6</th>\n",
              "      <td id=\"T_70a29_row12_col0\" class=\"data row12 col0\" >rating</td>\n",
              "      <td id=\"T_70a29_row12_col1\" class=\"data row12 col1\" >101</td>\n",
              "      <td id=\"T_70a29_row12_col2\" class=\"data row12 col2\" >0.000000</td>\n",
              "    </tr>\n",
              "    <tr>\n",
              "      <th id=\"T_70a29_level0_row13\" class=\"row_heading level0 row13\" >11</th>\n",
              "      <td id=\"T_70a29_row13_col0\" class=\"data row13 col0\" >link</td>\n",
              "      <td id=\"T_70a29_row13_col1\" class=\"data row13 col1\" >0</td>\n",
              "      <td id=\"T_70a29_row13_col2\" class=\"data row13 col2\" >0.000000</td>\n",
              "    </tr>\n",
              "  </tbody>\n",
              "</table>\n"
            ]
          },
          "metadata": {},
          "execution_count": 19
        }
      ]
    },
    {
      "cell_type": "code",
      "source": [
        "df = df.drop(['type','price'], axis =1)\n",
        "df.dropna(inplace = True, axis = 0)\n",
        "df.reset_index(inplace = True)\n",
        "df.drop(['index'], axis = 1, inplace = True)\n",
        "df.shape"
      ],
      "metadata": {
        "colab": {
          "base_uri": "https://localhost:8080/"
        },
        "id": "S5S91kMCtKVO",
        "outputId": "5aaff650-b8f3-4690-eece-f9f3cdf0486a"
      },
      "execution_count": 20,
      "outputs": [
        {
          "output_type": "execute_result",
          "data": {
            "text/plain": [
              "(148290, 12)"
            ]
          },
          "metadata": {},
          "execution_count": 20
        }
      ]
    },
    {
      "cell_type": "code",
      "source": [
        "df.cost = df.cost.str.split(' ',1, expand=True)[1].astype('int')\n",
        "df.cost.dtypes"
      ],
      "metadata": {
        "colab": {
          "base_uri": "https://localhost:8080/"
        },
        "id": "eaSOFkwHvXEl",
        "outputId": "dea1aa30-8270-4c78-b63c-b234cff3be4e"
      },
      "execution_count": 26,
      "outputs": [
        {
          "output_type": "stream",
          "name": "stderr",
          "text": [
            "<ipython-input-26-704a2a80db7b>:1: FutureWarning:\n",
            "\n",
            "In a future version of pandas all arguments of StringMethods.split except for the argument 'pat' will be keyword-only.\n",
            "\n"
          ]
        },
        {
          "output_type": "execute_result",
          "data": {
            "text/plain": [
              "dtype('int64')"
            ]
          },
          "metadata": {},
          "execution_count": 26
        }
      ]
    },
    {
      "cell_type": "code",
      "source": [
        "df.City.replace(['Noida-1','Noida'],'Noida',inplace=True)"
      ],
      "metadata": {
        "id": "ItPPSiE_tTIz"
      },
      "execution_count": 21,
      "outputs": []
    },
    {
      "cell_type": "markdown",
      "source": [
        "### 1-How many cities (including subregions) where Swiggy is having its restaurants listed?\n",
        "* There are `820` Cities (including subregions) where swiggy is having their restaurants listed."
      ],
      "metadata": {
        "id": "TaD_YXi2tytt"
      }
    },
    {
      "cell_type": "code",
      "source": [
        "# In SubRegion column contains City name also.\n",
        "df['SubRegion'].nunique()       # Noida & Noida-1 are same city to count reduce by 1"
      ],
      "metadata": {
        "colab": {
          "base_uri": "https://localhost:8080/"
        },
        "id": "9StzLlsWtUCU",
        "outputId": "456fb370-32fb-42d4-aac0-3671a91ed748"
      },
      "execution_count": 22,
      "outputs": [
        {
          "output_type": "execute_result",
          "data": {
            "text/plain": [
              "820"
            ]
          },
          "metadata": {},
          "execution_count": 22
        }
      ]
    },
    {
      "cell_type": "markdown",
      "source": [
        "###2-How many cities  (don't include subregions) where Swiggy is having their restaurants listed?\n",
        "There are `551` cities, where swiggy is having their restaurants listed(excluding Subregions)."
      ],
      "metadata": {
        "id": "pX1ajLqzuERP"
      }
    },
    {
      "cell_type": "code",
      "source": [
        "# City column contains only the main city name\n",
        "df['City'].nunique()           # Noida & Noida-1 are same city to count reduce by 1"
      ],
      "metadata": {
        "colab": {
          "base_uri": "https://localhost:8080/"
        },
        "id": "V8fhuTmWuAce",
        "outputId": "7641fb72-cb00-4538-ede4-8a001f53c0a6"
      },
      "execution_count": 23,
      "outputs": [
        {
          "output_type": "execute_result",
          "data": {
            "text/plain": [
              "551"
            ]
          },
          "metadata": {},
          "execution_count": 23
        }
      ]
    },
    {
      "cell_type": "markdown",
      "source": [
        "###3-The Subregion of Delhi with the maximum number of restaurants listed on Swiggy?\n",
        "Indirapuram is the Subregion of Delhi with the maximum number of restaurants listed on Swiggy?"
      ],
      "metadata": {
        "id": "dNBlQoltuahG"
      }
    },
    {
      "cell_type": "code",
      "source": [
        "d = df[df.City == 'Delhi']\n",
        "d.groupby('SubRegion')['Restaurant'].count().sort_values(ascending=False).reset_index(name='Restaurants counts').head().style.background_gradient()"
      ],
      "metadata": {
        "colab": {
          "base_uri": "https://localhost:8080/",
          "height": 206
        },
        "id": "i9RKSJ6vuc3A",
        "outputId": "627ee96d-e501-40a7-b70d-c8f45d27d679"
      },
      "execution_count": 24,
      "outputs": [
        {
          "output_type": "execute_result",
          "data": {
            "text/plain": [
              "<pandas.io.formats.style.Styler at 0x7d6e7ba13880>"
            ],
            "text/html": [
              "<style type=\"text/css\">\n",
              "#T_7df69_row0_col1 {\n",
              "  background-color: #023858;\n",
              "  color: #f1f1f1;\n",
              "}\n",
              "#T_7df69_row1_col1 {\n",
              "  background-color: #3790c0;\n",
              "  color: #f1f1f1;\n",
              "}\n",
              "#T_7df69_row2_col1 {\n",
              "  background-color: #a8bedc;\n",
              "  color: #000000;\n",
              "}\n",
              "#T_7df69_row3_col1 {\n",
              "  background-color: #f2ecf5;\n",
              "  color: #000000;\n",
              "}\n",
              "#T_7df69_row4_col1 {\n",
              "  background-color: #fff7fb;\n",
              "  color: #000000;\n",
              "}\n",
              "</style>\n",
              "<table id=\"T_7df69\" class=\"dataframe\">\n",
              "  <thead>\n",
              "    <tr>\n",
              "      <th class=\"blank level0\" >&nbsp;</th>\n",
              "      <th id=\"T_7df69_level0_col0\" class=\"col_heading level0 col0\" >SubRegion</th>\n",
              "      <th id=\"T_7df69_level0_col1\" class=\"col_heading level0 col1\" >Restaurants counts</th>\n",
              "    </tr>\n",
              "  </thead>\n",
              "  <tbody>\n",
              "    <tr>\n",
              "      <th id=\"T_7df69_level0_row0\" class=\"row_heading level0 row0\" >0</th>\n",
              "      <td id=\"T_7df69_row0_col0\" class=\"data row0 col0\" >Indirapuram</td>\n",
              "      <td id=\"T_7df69_row0_col1\" class=\"data row0 col1\" >1279</td>\n",
              "    </tr>\n",
              "    <tr>\n",
              "      <th id=\"T_7df69_level0_row1\" class=\"row_heading level0 row1\" >1</th>\n",
              "      <td id=\"T_7df69_row1_col0\" class=\"data row1 col0\" >Rohini</td>\n",
              "      <td id=\"T_7df69_row1_col1\" class=\"data row1 col1\" >1135</td>\n",
              "    </tr>\n",
              "    <tr>\n",
              "      <th id=\"T_7df69_level0_row2\" class=\"row_heading level0 row2\" >2</th>\n",
              "      <td id=\"T_7df69_row2_col0\" class=\"data row2 col0\" >Greater Kailash 2</td>\n",
              "      <td id=\"T_7df69_row2_col1\" class=\"data row2 col1\" >1037</td>\n",
              "    </tr>\n",
              "    <tr>\n",
              "      <th id=\"T_7df69_level0_row3\" class=\"row_heading level0 row3\" >3</th>\n",
              "      <td id=\"T_7df69_row3_col0\" class=\"data row3 col0\" >Laxmi Nagar</td>\n",
              "      <td id=\"T_7df69_row3_col1\" class=\"data row3 col1\" >930</td>\n",
              "    </tr>\n",
              "    <tr>\n",
              "      <th id=\"T_7df69_level0_row4\" class=\"row_heading level0 row4\" >4</th>\n",
              "      <td id=\"T_7df69_row4_col0\" class=\"data row4 col0\" >Malviya Nagar</td>\n",
              "      <td id=\"T_7df69_row4_col1\" class=\"data row4 col1\" >896</td>\n",
              "    </tr>\n",
              "  </tbody>\n",
              "</table>\n"
            ]
          },
          "metadata": {},
          "execution_count": 24
        }
      ]
    },
    {
      "cell_type": "markdown",
      "source": [
        "###Name the top 5 Most Expensive Cities in the Datasets."
      ],
      "metadata": {
        "id": "Jcgyz03Quzh1"
      }
    },
    {
      "cell_type": "code",
      "source": [
        "Expensive = df.groupby('City', as_index=False).agg('mean')[['City','cost']].sort_values(by='cost', ascending = False)\n",
        "\n",
        "fig =px.bar(Expensive.head(),\n",
        "            x= 'City',\n",
        "            y= 'cost',\n",
        "            labels = {'City':'Top 5 City','cost':'Cost'},\n",
        "            template='plotly_dark',\n",
        "            color_discrete_sequence = px.colors.qualitative.G10_r,\n",
        "            title='<b>Most Expensive City')\n",
        "\n",
        "fig.show()\n",
        "\n",
        "pyo.plot(fig, filename = 'Most Expensive City.html', auto_open = True)"
      ],
      "metadata": {
        "colab": {
          "base_uri": "https://localhost:8080/",
          "height": 650
        },
        "id": "v5njdhE5uyxv",
        "outputId": "fca5575b-5dfd-41ef-ab8c-c3235c501e92"
      },
      "execution_count": 27,
      "outputs": [
        {
          "output_type": "stream",
          "name": "stderr",
          "text": [
            "<ipython-input-27-4001c420f5f5>:1: FutureWarning:\n",
            "\n",
            "The default value of numeric_only in DataFrameGroupBy.mean is deprecated. In a future version, numeric_only will default to False. Either specify numeric_only or select only columns which should be valid for the function.\n",
            "\n"
          ]
        },
        {
          "output_type": "display_data",
          "data": {
            "text/html": [
              "<html>\n",
              "<head><meta charset=\"utf-8\" /></head>\n",
              "<body>\n",
              "    <div>            <script src=\"https://cdnjs.cloudflare.com/ajax/libs/mathjax/2.7.5/MathJax.js?config=TeX-AMS-MML_SVG\"></script><script type=\"text/javascript\">if (window.MathJax && window.MathJax.Hub && window.MathJax.Hub.Config) {window.MathJax.Hub.Config({SVG: {font: \"STIX-Web\"}});}</script>                <script type=\"text/javascript\">window.PlotlyConfig = {MathJaxConfig: 'local'};</script>\n",
              "        <script src=\"https://cdn.plot.ly/plotly-2.18.2.min.js\"></script>                <div id=\"7b4d1a60-0b3f-47b0-b9ca-8ea44b1b1ccf\" class=\"plotly-graph-div\" style=\"height:525px; width:100%;\"></div>            <script type=\"text/javascript\">                                    window.PLOTLYENV=window.PLOTLYENV || {};                                    if (document.getElementById(\"7b4d1a60-0b3f-47b0-b9ca-8ea44b1b1ccf\")) {                    Plotly.newPlot(                        \"7b4d1a60-0b3f-47b0-b9ca-8ea44b1b1ccf\",                        [{\"alignmentgroup\":\"True\",\"hovertemplate\":\"Top 5 City=%{x}<br>Cost=%{y}<extra></extra>\",\"legendgroup\":\"\",\"marker\":{\"color\":\"#316395\",\"pattern\":{\"shape\":\"\"}},\"name\":\"\",\"offsetgroup\":\"\",\"orientation\":\"v\",\"showlegend\":false,\"textposition\":\"auto\",\"x\":[\"Hinganghat\",\"North-goa\",\"Gangtok\",\"Mussoorie\",\"South-goa\"],\"xaxis\":\"x\",\"y\":[18962.4375,468.9640449438202,466.6666666666667,460.0,442.85714285714283],\"yaxis\":\"y\",\"type\":\"bar\"}],                        {\"template\":{\"data\":{\"barpolar\":[{\"marker\":{\"line\":{\"color\":\"rgb(17,17,17)\",\"width\":0.5},\"pattern\":{\"fillmode\":\"overlay\",\"size\":10,\"solidity\":0.2}},\"type\":\"barpolar\"}],\"bar\":[{\"error_x\":{\"color\":\"#f2f5fa\"},\"error_y\":{\"color\":\"#f2f5fa\"},\"marker\":{\"line\":{\"color\":\"rgb(17,17,17)\",\"width\":0.5},\"pattern\":{\"fillmode\":\"overlay\",\"size\":10,\"solidity\":0.2}},\"type\":\"bar\"}],\"carpet\":[{\"aaxis\":{\"endlinecolor\":\"#A2B1C6\",\"gridcolor\":\"#506784\",\"linecolor\":\"#506784\",\"minorgridcolor\":\"#506784\",\"startlinecolor\":\"#A2B1C6\"},\"baxis\":{\"endlinecolor\":\"#A2B1C6\",\"gridcolor\":\"#506784\",\"linecolor\":\"#506784\",\"minorgridcolor\":\"#506784\",\"startlinecolor\":\"#A2B1C6\"},\"type\":\"carpet\"}],\"choropleth\":[{\"colorbar\":{\"outlinewidth\":0,\"ticks\":\"\"},\"type\":\"choropleth\"}],\"contourcarpet\":[{\"colorbar\":{\"outlinewidth\":0,\"ticks\":\"\"},\"type\":\"contourcarpet\"}],\"contour\":[{\"colorbar\":{\"outlinewidth\":0,\"ticks\":\"\"},\"colorscale\":[[0.0,\"#0d0887\"],[0.1111111111111111,\"#46039f\"],[0.2222222222222222,\"#7201a8\"],[0.3333333333333333,\"#9c179e\"],[0.4444444444444444,\"#bd3786\"],[0.5555555555555556,\"#d8576b\"],[0.6666666666666666,\"#ed7953\"],[0.7777777777777778,\"#fb9f3a\"],[0.8888888888888888,\"#fdca26\"],[1.0,\"#f0f921\"]],\"type\":\"contour\"}],\"heatmapgl\":[{\"colorbar\":{\"outlinewidth\":0,\"ticks\":\"\"},\"colorscale\":[[0.0,\"#0d0887\"],[0.1111111111111111,\"#46039f\"],[0.2222222222222222,\"#7201a8\"],[0.3333333333333333,\"#9c179e\"],[0.4444444444444444,\"#bd3786\"],[0.5555555555555556,\"#d8576b\"],[0.6666666666666666,\"#ed7953\"],[0.7777777777777778,\"#fb9f3a\"],[0.8888888888888888,\"#fdca26\"],[1.0,\"#f0f921\"]],\"type\":\"heatmapgl\"}],\"heatmap\":[{\"colorbar\":{\"outlinewidth\":0,\"ticks\":\"\"},\"colorscale\":[[0.0,\"#0d0887\"],[0.1111111111111111,\"#46039f\"],[0.2222222222222222,\"#7201a8\"],[0.3333333333333333,\"#9c179e\"],[0.4444444444444444,\"#bd3786\"],[0.5555555555555556,\"#d8576b\"],[0.6666666666666666,\"#ed7953\"],[0.7777777777777778,\"#fb9f3a\"],[0.8888888888888888,\"#fdca26\"],[1.0,\"#f0f921\"]],\"type\":\"heatmap\"}],\"histogram2dcontour\":[{\"colorbar\":{\"outlinewidth\":0,\"ticks\":\"\"},\"colorscale\":[[0.0,\"#0d0887\"],[0.1111111111111111,\"#46039f\"],[0.2222222222222222,\"#7201a8\"],[0.3333333333333333,\"#9c179e\"],[0.4444444444444444,\"#bd3786\"],[0.5555555555555556,\"#d8576b\"],[0.6666666666666666,\"#ed7953\"],[0.7777777777777778,\"#fb9f3a\"],[0.8888888888888888,\"#fdca26\"],[1.0,\"#f0f921\"]],\"type\":\"histogram2dcontour\"}],\"histogram2d\":[{\"colorbar\":{\"outlinewidth\":0,\"ticks\":\"\"},\"colorscale\":[[0.0,\"#0d0887\"],[0.1111111111111111,\"#46039f\"],[0.2222222222222222,\"#7201a8\"],[0.3333333333333333,\"#9c179e\"],[0.4444444444444444,\"#bd3786\"],[0.5555555555555556,\"#d8576b\"],[0.6666666666666666,\"#ed7953\"],[0.7777777777777778,\"#fb9f3a\"],[0.8888888888888888,\"#fdca26\"],[1.0,\"#f0f921\"]],\"type\":\"histogram2d\"}],\"histogram\":[{\"marker\":{\"pattern\":{\"fillmode\":\"overlay\",\"size\":10,\"solidity\":0.2}},\"type\":\"histogram\"}],\"mesh3d\":[{\"colorbar\":{\"outlinewidth\":0,\"ticks\":\"\"},\"type\":\"mesh3d\"}],\"parcoords\":[{\"line\":{\"colorbar\":{\"outlinewidth\":0,\"ticks\":\"\"}},\"type\":\"parcoords\"}],\"pie\":[{\"automargin\":true,\"type\":\"pie\"}],\"scatter3d\":[{\"line\":{\"colorbar\":{\"outlinewidth\":0,\"ticks\":\"\"}},\"marker\":{\"colorbar\":{\"outlinewidth\":0,\"ticks\":\"\"}},\"type\":\"scatter3d\"}],\"scattercarpet\":[{\"marker\":{\"colorbar\":{\"outlinewidth\":0,\"ticks\":\"\"}},\"type\":\"scattercarpet\"}],\"scattergeo\":[{\"marker\":{\"colorbar\":{\"outlinewidth\":0,\"ticks\":\"\"}},\"type\":\"scattergeo\"}],\"scattergl\":[{\"marker\":{\"line\":{\"color\":\"#283442\"}},\"type\":\"scattergl\"}],\"scattermapbox\":[{\"marker\":{\"colorbar\":{\"outlinewidth\":0,\"ticks\":\"\"}},\"type\":\"scattermapbox\"}],\"scatterpolargl\":[{\"marker\":{\"colorbar\":{\"outlinewidth\":0,\"ticks\":\"\"}},\"type\":\"scatterpolargl\"}],\"scatterpolar\":[{\"marker\":{\"colorbar\":{\"outlinewidth\":0,\"ticks\":\"\"}},\"type\":\"scatterpolar\"}],\"scatter\":[{\"marker\":{\"line\":{\"color\":\"#283442\"}},\"type\":\"scatter\"}],\"scatterternary\":[{\"marker\":{\"colorbar\":{\"outlinewidth\":0,\"ticks\":\"\"}},\"type\":\"scatterternary\"}],\"surface\":[{\"colorbar\":{\"outlinewidth\":0,\"ticks\":\"\"},\"colorscale\":[[0.0,\"#0d0887\"],[0.1111111111111111,\"#46039f\"],[0.2222222222222222,\"#7201a8\"],[0.3333333333333333,\"#9c179e\"],[0.4444444444444444,\"#bd3786\"],[0.5555555555555556,\"#d8576b\"],[0.6666666666666666,\"#ed7953\"],[0.7777777777777778,\"#fb9f3a\"],[0.8888888888888888,\"#fdca26\"],[1.0,\"#f0f921\"]],\"type\":\"surface\"}],\"table\":[{\"cells\":{\"fill\":{\"color\":\"#506784\"},\"line\":{\"color\":\"rgb(17,17,17)\"}},\"header\":{\"fill\":{\"color\":\"#2a3f5f\"},\"line\":{\"color\":\"rgb(17,17,17)\"}},\"type\":\"table\"}]},\"layout\":{\"annotationdefaults\":{\"arrowcolor\":\"#f2f5fa\",\"arrowhead\":0,\"arrowwidth\":1},\"autotypenumbers\":\"strict\",\"coloraxis\":{\"colorbar\":{\"outlinewidth\":0,\"ticks\":\"\"}},\"colorscale\":{\"diverging\":[[0,\"#8e0152\"],[0.1,\"#c51b7d\"],[0.2,\"#de77ae\"],[0.3,\"#f1b6da\"],[0.4,\"#fde0ef\"],[0.5,\"#f7f7f7\"],[0.6,\"#e6f5d0\"],[0.7,\"#b8e186\"],[0.8,\"#7fbc41\"],[0.9,\"#4d9221\"],[1,\"#276419\"]],\"sequential\":[[0.0,\"#0d0887\"],[0.1111111111111111,\"#46039f\"],[0.2222222222222222,\"#7201a8\"],[0.3333333333333333,\"#9c179e\"],[0.4444444444444444,\"#bd3786\"],[0.5555555555555556,\"#d8576b\"],[0.6666666666666666,\"#ed7953\"],[0.7777777777777778,\"#fb9f3a\"],[0.8888888888888888,\"#fdca26\"],[1.0,\"#f0f921\"]],\"sequentialminus\":[[0.0,\"#0d0887\"],[0.1111111111111111,\"#46039f\"],[0.2222222222222222,\"#7201a8\"],[0.3333333333333333,\"#9c179e\"],[0.4444444444444444,\"#bd3786\"],[0.5555555555555556,\"#d8576b\"],[0.6666666666666666,\"#ed7953\"],[0.7777777777777778,\"#fb9f3a\"],[0.8888888888888888,\"#fdca26\"],[1.0,\"#f0f921\"]]},\"colorway\":[\"#636efa\",\"#EF553B\",\"#00cc96\",\"#ab63fa\",\"#FFA15A\",\"#19d3f3\",\"#FF6692\",\"#B6E880\",\"#FF97FF\",\"#FECB52\"],\"font\":{\"color\":\"#f2f5fa\"},\"geo\":{\"bgcolor\":\"rgb(17,17,17)\",\"lakecolor\":\"rgb(17,17,17)\",\"landcolor\":\"rgb(17,17,17)\",\"showlakes\":true,\"showland\":true,\"subunitcolor\":\"#506784\"},\"hoverlabel\":{\"align\":\"left\"},\"hovermode\":\"closest\",\"mapbox\":{\"style\":\"dark\"},\"paper_bgcolor\":\"rgb(17,17,17)\",\"plot_bgcolor\":\"rgb(17,17,17)\",\"polar\":{\"angularaxis\":{\"gridcolor\":\"#506784\",\"linecolor\":\"#506784\",\"ticks\":\"\"},\"bgcolor\":\"rgb(17,17,17)\",\"radialaxis\":{\"gridcolor\":\"#506784\",\"linecolor\":\"#506784\",\"ticks\":\"\"}},\"scene\":{\"xaxis\":{\"backgroundcolor\":\"rgb(17,17,17)\",\"gridcolor\":\"#506784\",\"gridwidth\":2,\"linecolor\":\"#506784\",\"showbackground\":true,\"ticks\":\"\",\"zerolinecolor\":\"#C8D4E3\"},\"yaxis\":{\"backgroundcolor\":\"rgb(17,17,17)\",\"gridcolor\":\"#506784\",\"gridwidth\":2,\"linecolor\":\"#506784\",\"showbackground\":true,\"ticks\":\"\",\"zerolinecolor\":\"#C8D4E3\"},\"zaxis\":{\"backgroundcolor\":\"rgb(17,17,17)\",\"gridcolor\":\"#506784\",\"gridwidth\":2,\"linecolor\":\"#506784\",\"showbackground\":true,\"ticks\":\"\",\"zerolinecolor\":\"#C8D4E3\"}},\"shapedefaults\":{\"line\":{\"color\":\"#f2f5fa\"}},\"sliderdefaults\":{\"bgcolor\":\"#C8D4E3\",\"bordercolor\":\"rgb(17,17,17)\",\"borderwidth\":1,\"tickwidth\":0},\"ternary\":{\"aaxis\":{\"gridcolor\":\"#506784\",\"linecolor\":\"#506784\",\"ticks\":\"\"},\"baxis\":{\"gridcolor\":\"#506784\",\"linecolor\":\"#506784\",\"ticks\":\"\"},\"bgcolor\":\"rgb(17,17,17)\",\"caxis\":{\"gridcolor\":\"#506784\",\"linecolor\":\"#506784\",\"ticks\":\"\"}},\"title\":{\"x\":0.05},\"updatemenudefaults\":{\"bgcolor\":\"#506784\",\"borderwidth\":0},\"xaxis\":{\"automargin\":true,\"gridcolor\":\"#283442\",\"linecolor\":\"#506784\",\"ticks\":\"\",\"title\":{\"standoff\":15},\"zerolinecolor\":\"#283442\",\"zerolinewidth\":2},\"yaxis\":{\"automargin\":true,\"gridcolor\":\"#283442\",\"linecolor\":\"#506784\",\"ticks\":\"\",\"title\":{\"standoff\":15},\"zerolinecolor\":\"#283442\",\"zerolinewidth\":2}}},\"xaxis\":{\"anchor\":\"y\",\"domain\":[0.0,1.0],\"title\":{\"text\":\"Top 5 City\"}},\"yaxis\":{\"anchor\":\"x\",\"domain\":[0.0,1.0],\"title\":{\"text\":\"Cost\"}},\"legend\":{\"tracegroupgap\":0},\"title\":{\"text\":\"<b>Most Expensive City\"},\"barmode\":\"relative\"},                        {\"responsive\": true}                    ).then(function(){\n",
              "                            \n",
              "var gd = document.getElementById('7b4d1a60-0b3f-47b0-b9ca-8ea44b1b1ccf');\n",
              "var x = new MutationObserver(function (mutations, observer) {{\n",
              "        var display = window.getComputedStyle(gd).display;\n",
              "        if (!display || display === 'none') {{\n",
              "            console.log([gd, 'removed!']);\n",
              "            Plotly.purge(gd);\n",
              "            observer.disconnect();\n",
              "        }}\n",
              "}});\n",
              "\n",
              "// Listen for the removal of the full notebook cells\n",
              "var notebookContainer = gd.closest('#notebook-container');\n",
              "if (notebookContainer) {{\n",
              "    x.observe(notebookContainer, {childList: true});\n",
              "}}\n",
              "\n",
              "// Listen for the clearing of the current output cell\n",
              "var outputEl = gd.closest('.output');\n",
              "if (outputEl) {{\n",
              "    x.observe(outputEl, {childList: true});\n",
              "}}\n",
              "\n",
              "                        })                };                            </script>        </div>\n",
              "</body>\n",
              "</html>"
            ]
          },
          "metadata": {}
        },
        {
          "output_type": "execute_result",
          "data": {
            "text/plain": [
              "'Most Expensive City.html'"
            ],
            "application/vnd.google.colaboratory.intrinsic+json": {
              "type": "string"
            }
          },
          "metadata": {},
          "execution_count": 27
        }
      ]
    },
    {
      "cell_type": "code",
      "source": [
        "Rating = []\n",
        "for i in range(df.shape[0]):\n",
        "    try:\n",
        "        Rating.append(float(df.rating[i]))\n",
        "    except:\n",
        "        #print(Data.rating[i])\n",
        "        if df.rating[i] == '--' or 'NA':\n",
        "            Rating.append(np.NaN)                # Where rating is not givem keep it null\n",
        "        else:\n",
        "            print(df.rating[i])\n",
        "print(len(Rating))\n",
        "print(df.shape[0])\n",
        "df.rating = Rating\n",
        "df.rating.dtypes"
      ],
      "metadata": {
        "colab": {
          "base_uri": "https://localhost:8080/"
        },
        "id": "tUq3jVvZx_C9",
        "outputId": "4ec7bbe5-89d7-4cd7-a7dd-1f14a294d9f5"
      },
      "execution_count": 35,
      "outputs": [
        {
          "output_type": "stream",
          "name": "stdout",
          "text": [
            "148290\n",
            "148290\n"
          ]
        },
        {
          "output_type": "execute_result",
          "data": {
            "text/plain": [
              "dtype('float64')"
            ]
          },
          "metadata": {},
          "execution_count": 35
        }
      ]
    },
    {
      "cell_type": "markdown",
      "source": [
        "###List out the top 5 Restaurants with Maximum & minimum ratings throughout the dataset.\n",
        "5 Restaurant with Maximum rating throughout the dataset are Pablo Premium Kitchen, The best diet corner, Creams and Bites and Bansal's Thali & Combo Meals.\n",
        "There are 209 Restaurants, which has the maximum 5.0 rating.\n",
        "\n",
        "5 Restaurant with Minimum rating throughout the dataset are Ice Cream and Shakes, Co Persian Delight ,SHAWARMA WRAP ROLL YOUR SECRETS,THE TARI STORY and  The Hyderabadi Biryani House."
      ],
      "metadata": {
        "id": "QY4pSbFvvlFG"
      }
    },
    {
      "cell_type": "code",
      "source": [
        "print('The maximum rating Restaurant are:')\n",
        "df[df.rating ==df.rating.max()][['Restaurant', 'rating']]"
      ],
      "metadata": {
        "colab": {
          "base_uri": "https://localhost:8080/",
          "height": 441
        },
        "id": "k2uGm21Pv99m",
        "outputId": "79d5a5aa-d688-4e5d-e479-cd7e1eeb3deb"
      },
      "execution_count": 36,
      "outputs": [
        {
          "output_type": "stream",
          "name": "stdout",
          "text": [
            "The maximum rating Restaurant are:\n"
          ]
        },
        {
          "output_type": "execute_result",
          "data": {
            "text/plain": [
              "                             Restaurant  rating\n",
              "757               Pablo Premium Kitchen     5.0\n",
              "1021               The best diet corner     5.0\n",
              "9758                   Creams and Bites     5.0\n",
              "9808       Bansal's Thali & Combo Meals     5.0\n",
              "10239   GOWHEY- HEALTHY DESSERT COMPANY     5.0\n",
              "...                                 ...     ...\n",
              "140515                   Chenab Kitchen     5.0\n",
              "146038                      Cream House     5.0\n",
              "147204                HINDUSTANI BURGER     5.0\n",
              "147205                     KEBAB NATION     5.0\n",
              "147211                      DELHI GALLI     5.0\n",
              "\n",
              "[209 rows x 2 columns]"
            ],
            "text/html": [
              "\n",
              "\n",
              "  <div id=\"df-b995fe11-649c-4505-acb9-7d88807de879\">\n",
              "    <div class=\"colab-df-container\">\n",
              "      <div>\n",
              "<style scoped>\n",
              "    .dataframe tbody tr th:only-of-type {\n",
              "        vertical-align: middle;\n",
              "    }\n",
              "\n",
              "    .dataframe tbody tr th {\n",
              "        vertical-align: top;\n",
              "    }\n",
              "\n",
              "    .dataframe thead th {\n",
              "        text-align: right;\n",
              "    }\n",
              "</style>\n",
              "<table border=\"1\" class=\"dataframe\">\n",
              "  <thead>\n",
              "    <tr style=\"text-align: right;\">\n",
              "      <th></th>\n",
              "      <th>Restaurant</th>\n",
              "      <th>rating</th>\n",
              "    </tr>\n",
              "  </thead>\n",
              "  <tbody>\n",
              "    <tr>\n",
              "      <th>757</th>\n",
              "      <td>Pablo Premium Kitchen</td>\n",
              "      <td>5.0</td>\n",
              "    </tr>\n",
              "    <tr>\n",
              "      <th>1021</th>\n",
              "      <td>The best diet corner</td>\n",
              "      <td>5.0</td>\n",
              "    </tr>\n",
              "    <tr>\n",
              "      <th>9758</th>\n",
              "      <td>Creams and Bites</td>\n",
              "      <td>5.0</td>\n",
              "    </tr>\n",
              "    <tr>\n",
              "      <th>9808</th>\n",
              "      <td>Bansal's Thali &amp; Combo Meals</td>\n",
              "      <td>5.0</td>\n",
              "    </tr>\n",
              "    <tr>\n",
              "      <th>10239</th>\n",
              "      <td>GOWHEY- HEALTHY DESSERT COMPANY</td>\n",
              "      <td>5.0</td>\n",
              "    </tr>\n",
              "    <tr>\n",
              "      <th>...</th>\n",
              "      <td>...</td>\n",
              "      <td>...</td>\n",
              "    </tr>\n",
              "    <tr>\n",
              "      <th>140515</th>\n",
              "      <td>Chenab Kitchen</td>\n",
              "      <td>5.0</td>\n",
              "    </tr>\n",
              "    <tr>\n",
              "      <th>146038</th>\n",
              "      <td>Cream House</td>\n",
              "      <td>5.0</td>\n",
              "    </tr>\n",
              "    <tr>\n",
              "      <th>147204</th>\n",
              "      <td>HINDUSTANI BURGER</td>\n",
              "      <td>5.0</td>\n",
              "    </tr>\n",
              "    <tr>\n",
              "      <th>147205</th>\n",
              "      <td>KEBAB NATION</td>\n",
              "      <td>5.0</td>\n",
              "    </tr>\n",
              "    <tr>\n",
              "      <th>147211</th>\n",
              "      <td>DELHI GALLI</td>\n",
              "      <td>5.0</td>\n",
              "    </tr>\n",
              "  </tbody>\n",
              "</table>\n",
              "<p>209 rows × 2 columns</p>\n",
              "</div>\n",
              "      <button class=\"colab-df-convert\" onclick=\"convertToInteractive('df-b995fe11-649c-4505-acb9-7d88807de879')\"\n",
              "              title=\"Convert this dataframe to an interactive table.\"\n",
              "              style=\"display:none;\">\n",
              "\n",
              "  <svg xmlns=\"http://www.w3.org/2000/svg\" height=\"24px\"viewBox=\"0 0 24 24\"\n",
              "       width=\"24px\">\n",
              "    <path d=\"M0 0h24v24H0V0z\" fill=\"none\"/>\n",
              "    <path d=\"M18.56 5.44l.94 2.06.94-2.06 2.06-.94-2.06-.94-.94-2.06-.94 2.06-2.06.94zm-11 1L8.5 8.5l.94-2.06 2.06-.94-2.06-.94L8.5 2.5l-.94 2.06-2.06.94zm10 10l.94 2.06.94-2.06 2.06-.94-2.06-.94-.94-2.06-.94 2.06-2.06.94z\"/><path d=\"M17.41 7.96l-1.37-1.37c-.4-.4-.92-.59-1.43-.59-.52 0-1.04.2-1.43.59L10.3 9.45l-7.72 7.72c-.78.78-.78 2.05 0 2.83L4 21.41c.39.39.9.59 1.41.59.51 0 1.02-.2 1.41-.59l7.78-7.78 2.81-2.81c.8-.78.8-2.07 0-2.86zM5.41 20L4 18.59l7.72-7.72 1.47 1.35L5.41 20z\"/>\n",
              "  </svg>\n",
              "      </button>\n",
              "\n",
              "\n",
              "\n",
              "    <div id=\"df-614f6722-7ba8-4d2e-8bc1-79d1c9d24719\">\n",
              "      <button class=\"colab-df-quickchart\" onclick=\"quickchart('df-614f6722-7ba8-4d2e-8bc1-79d1c9d24719')\"\n",
              "              title=\"Suggest charts.\"\n",
              "              style=\"display:none;\">\n",
              "\n",
              "<svg xmlns=\"http://www.w3.org/2000/svg\" height=\"24px\"viewBox=\"0 0 24 24\"\n",
              "     width=\"24px\">\n",
              "    <g>\n",
              "        <path d=\"M19 3H5c-1.1 0-2 .9-2 2v14c0 1.1.9 2 2 2h14c1.1 0 2-.9 2-2V5c0-1.1-.9-2-2-2zM9 17H7v-7h2v7zm4 0h-2V7h2v10zm4 0h-2v-4h2v4z\"/>\n",
              "    </g>\n",
              "</svg>\n",
              "      </button>\n",
              "    </div>\n",
              "\n",
              "<style>\n",
              "  .colab-df-quickchart {\n",
              "    background-color: #E8F0FE;\n",
              "    border: none;\n",
              "    border-radius: 50%;\n",
              "    cursor: pointer;\n",
              "    display: none;\n",
              "    fill: #1967D2;\n",
              "    height: 32px;\n",
              "    padding: 0 0 0 0;\n",
              "    width: 32px;\n",
              "  }\n",
              "\n",
              "  .colab-df-quickchart:hover {\n",
              "    background-color: #E2EBFA;\n",
              "    box-shadow: 0px 1px 2px rgba(60, 64, 67, 0.3), 0px 1px 3px 1px rgba(60, 64, 67, 0.15);\n",
              "    fill: #174EA6;\n",
              "  }\n",
              "\n",
              "  [theme=dark] .colab-df-quickchart {\n",
              "    background-color: #3B4455;\n",
              "    fill: #D2E3FC;\n",
              "  }\n",
              "\n",
              "  [theme=dark] .colab-df-quickchart:hover {\n",
              "    background-color: #434B5C;\n",
              "    box-shadow: 0px 1px 3px 1px rgba(0, 0, 0, 0.15);\n",
              "    filter: drop-shadow(0px 1px 2px rgba(0, 0, 0, 0.3));\n",
              "    fill: #FFFFFF;\n",
              "  }\n",
              "</style>\n",
              "\n",
              "    <script>\n",
              "      async function quickchart(key) {\n",
              "        const containerElement = document.querySelector('#' + key);\n",
              "        const charts = await google.colab.kernel.invokeFunction(\n",
              "            'suggestCharts', [key], {});\n",
              "      }\n",
              "    </script>\n",
              "\n",
              "      <script>\n",
              "\n",
              "function displayQuickchartButton(domScope) {\n",
              "  let quickchartButtonEl =\n",
              "    domScope.querySelector('#df-614f6722-7ba8-4d2e-8bc1-79d1c9d24719 button.colab-df-quickchart');\n",
              "  quickchartButtonEl.style.display =\n",
              "    google.colab.kernel.accessAllowed ? 'block' : 'none';\n",
              "}\n",
              "\n",
              "        displayQuickchartButton(document);\n",
              "      </script>\n",
              "      <style>\n",
              "    .colab-df-container {\n",
              "      display:flex;\n",
              "      flex-wrap:wrap;\n",
              "      gap: 12px;\n",
              "    }\n",
              "\n",
              "    .colab-df-convert {\n",
              "      background-color: #E8F0FE;\n",
              "      border: none;\n",
              "      border-radius: 50%;\n",
              "      cursor: pointer;\n",
              "      display: none;\n",
              "      fill: #1967D2;\n",
              "      height: 32px;\n",
              "      padding: 0 0 0 0;\n",
              "      width: 32px;\n",
              "    }\n",
              "\n",
              "    .colab-df-convert:hover {\n",
              "      background-color: #E2EBFA;\n",
              "      box-shadow: 0px 1px 2px rgba(60, 64, 67, 0.3), 0px 1px 3px 1px rgba(60, 64, 67, 0.15);\n",
              "      fill: #174EA6;\n",
              "    }\n",
              "\n",
              "    [theme=dark] .colab-df-convert {\n",
              "      background-color: #3B4455;\n",
              "      fill: #D2E3FC;\n",
              "    }\n",
              "\n",
              "    [theme=dark] .colab-df-convert:hover {\n",
              "      background-color: #434B5C;\n",
              "      box-shadow: 0px 1px 3px 1px rgba(0, 0, 0, 0.15);\n",
              "      filter: drop-shadow(0px 1px 2px rgba(0, 0, 0, 0.3));\n",
              "      fill: #FFFFFF;\n",
              "    }\n",
              "  </style>\n",
              "\n",
              "      <script>\n",
              "        const buttonEl =\n",
              "          document.querySelector('#df-b995fe11-649c-4505-acb9-7d88807de879 button.colab-df-convert');\n",
              "        buttonEl.style.display =\n",
              "          google.colab.kernel.accessAllowed ? 'block' : 'none';\n",
              "\n",
              "        async function convertToInteractive(key) {\n",
              "          const element = document.querySelector('#df-b995fe11-649c-4505-acb9-7d88807de879');\n",
              "          const dataTable =\n",
              "            await google.colab.kernel.invokeFunction('convertToInteractive',\n",
              "                                                     [key], {});\n",
              "          if (!dataTable) return;\n",
              "\n",
              "          const docLinkHtml = 'Like what you see? Visit the ' +\n",
              "            '<a target=\"_blank\" href=https://colab.research.google.com/notebooks/data_table.ipynb>data table notebook</a>'\n",
              "            + ' to learn more about interactive tables.';\n",
              "          element.innerHTML = '';\n",
              "          dataTable['output_type'] = 'display_data';\n",
              "          await google.colab.output.renderOutput(dataTable, element);\n",
              "          const docLink = document.createElement('div');\n",
              "          docLink.innerHTML = docLinkHtml;\n",
              "          element.appendChild(docLink);\n",
              "        }\n",
              "      </script>\n",
              "    </div>\n",
              "  </div>\n"
            ]
          },
          "metadata": {},
          "execution_count": 36
        }
      ]
    },
    {
      "cell_type": "code",
      "source": [
        "print('The top 5 restaurant(s) with the minimum rating are:')\n",
        "min_rating_restaurants = df.nsmallest(5, 'rating')\n",
        "print(min_rating_restaurants[['Restaurant', 'rating']])\n"
      ],
      "metadata": {
        "colab": {
          "base_uri": "https://localhost:8080/"
        },
        "id": "Kx4DPOdhwkD5",
        "outputId": "ff46563f-16bb-4fd5-9bec-6099c566e541"
      },
      "execution_count": 39,
      "outputs": [
        {
          "output_type": "stream",
          "name": "stdout",
          "text": [
            "The top 5 restaurant(s) with the minimum rating are:\n",
            "                              Restaurant  rating\n",
            "34240            Ice Cream and Shakes Co     1.0\n",
            "18539                    Persian Delight     1.1\n",
            "36540  SHAWARMA WRAP - ROLL YOUR SECRETS     1.2\n",
            "51869                     THE TARI STORY     1.2\n",
            "68076       The Hyderabadi Biryani House     1.2\n"
          ]
        }
      ]
    },
    {
      "cell_type": "markdown",
      "source": [
        "###6-Name of top 5 cities with the highest number of restaurants listed."
      ],
      "metadata": {
        "id": "tnsAl9Rny6cy"
      }
    },
    {
      "cell_type": "code",
      "source": [
        "top_cities = df['City'].value_counts().nlargest(5)\n",
        "print('Top 5 cities with the highest number of restaurants listed:')\n",
        "print(top_cities)\n"
      ],
      "metadata": {
        "colab": {
          "base_uri": "https://localhost:8080/"
        },
        "id": "fUIK3ZQJy9sC",
        "outputId": "f75b671a-df08-4331-8c1c-07f87f123e0f"
      },
      "execution_count": 40,
      "outputs": [
        {
          "output_type": "stream",
          "name": "stdout",
          "text": [
            "Top 5 cities with the highest number of restaurants listed:\n",
            "Bangalore    15288\n",
            "Delhi        14048\n",
            "Pune         12412\n",
            "Hyderabad     9996\n",
            "Chennai       9940\n",
            "Name: City, dtype: int64\n"
          ]
        }
      ]
    },
    {
      "cell_type": "markdown",
      "source": [
        "###7-Top 10 cities as per the number of restaurants listed?"
      ],
      "metadata": {
        "id": "-k78IM2Xz5PQ"
      }
    },
    {
      "cell_type": "code",
      "source": [
        "top_cities = df['City'].value_counts().nlargest(10)\n",
        "print('Top 10 cities with the highest number of restaurants listed:')\n",
        "print(top_cities)\n"
      ],
      "metadata": {
        "colab": {
          "base_uri": "https://localhost:8080/"
        },
        "id": "jsNR3F0Mz7IS",
        "outputId": "7c63c199-cbc9-47ff-a239-84fa4b197a11"
      },
      "execution_count": 41,
      "outputs": [
        {
          "output_type": "stream",
          "name": "stdout",
          "text": [
            "Top 10 cities with the highest number of restaurants listed:\n",
            "Bangalore     15288\n",
            "Delhi         14048\n",
            "Pune          12412\n",
            "Hyderabad      9996\n",
            "Chennai        9940\n",
            "Kolkata        8271\n",
            "Mumbai         6064\n",
            "Ahmedabad      3538\n",
            "Chandigarh     3311\n",
            "Lucknow        2842\n",
            "Name: City, dtype: int64\n"
          ]
        }
      ]
    },
    {
      "cell_type": "code",
      "source": [
        "df.rating_count.unique()"
      ],
      "metadata": {
        "colab": {
          "base_uri": "https://localhost:8080/"
        },
        "id": "Y_3ga9gz07xt",
        "outputId": "b1b16308-523a-44f5-9fb3-94a10b2fd50d"
      },
      "execution_count": 45,
      "outputs": [
        {
          "output_type": "execute_result",
          "data": {
            "text/plain": [
              "array(['Too Few Ratings', '50+ ratings', '100+ ratings', '20+ ratings',\n",
              "       '500+ ratings', '1K+ ratings', '5K+ ratings', '10K+ ratings'],\n",
              "      dtype=object)"
            ]
          },
          "metadata": {},
          "execution_count": 45
        }
      ]
    },
    {
      "cell_type": "code",
      "source": [
        "review = {}\n",
        "for rating in df.rating_count.unique():\n",
        "    if rating == 'Too Few Ratings':\n",
        "        review[rating] = 0\n",
        "    else:\n",
        "        try:\n",
        "            review[rating] = int(rating.split('+')[0])\n",
        "        except:\n",
        "            if rating.split('+')[0][-1] == 'K':\n",
        "                review[rating] = int(rating.split('+')[0][:-1])*1000\n",
        "review"
      ],
      "metadata": {
        "colab": {
          "base_uri": "https://localhost:8080/"
        },
        "id": "FQ-PzVPU14-T",
        "outputId": "83602bdd-9d08-4484-bfd0-439706a17e2f"
      },
      "execution_count": 46,
      "outputs": [
        {
          "output_type": "execute_result",
          "data": {
            "text/plain": [
              "{'Too Few Ratings': 0,\n",
              " '50+ ratings': 50,\n",
              " '100+ ratings': 100,\n",
              " '20+ ratings': 20,\n",
              " '500+ ratings': 500,\n",
              " '1K+ ratings': 1000,\n",
              " '5K+ ratings': 5000,\n",
              " '10K+ ratings': 10000}"
            ]
          },
          "metadata": {},
          "execution_count": 46
        }
      ]
    },
    {
      "cell_type": "code",
      "source": [
        "reviews = []\n",
        "for i in range(df.shape[0]):\n",
        "    reviews.append(review[df.rating_count[i]])\n",
        "print(len(reviews))\n",
        "print(df.shape[0])\n",
        "\n",
        "df['Reviews'] = reviews"
      ],
      "metadata": {
        "colab": {
          "base_uri": "https://localhost:8080/"
        },
        "id": "NcVay9OS17dF",
        "outputId": "95c8cfab-35e1-4f22-b0de-6bf72b91904b"
      },
      "execution_count": 47,
      "outputs": [
        {
          "output_type": "stream",
          "name": "stdout",
          "text": [
            "148290\n",
            "148290\n"
          ]
        }
      ]
    },
    {
      "cell_type": "markdown",
      "source": [
        "###8-Name the top 5 Most Popular Restaurants in Pune."
      ],
      "metadata": {
        "id": "uh53gnkB2rvS"
      }
    },
    {
      "cell_type": "code",
      "source": [
        "d = df.sort_values(by = 'Reviews', ascending=False)[['Restaurant', 'SubRegion', 'City', 'rating_count','Reviews']]\n",
        "d[d.City == 'Pune'].head(5)"
      ],
      "metadata": {
        "colab": {
          "base_uri": "https://localhost:8080/",
          "height": 206
        },
        "id": "4fX9-ypH1_tn",
        "outputId": "1a21410e-2c62-4c66-d173-39529c7c75d1"
      },
      "execution_count": 77,
      "outputs": [
        {
          "output_type": "execute_result",
          "data": {
            "text/plain": [
              "                     Restaurant   SubRegion  City rating_count  Reviews\n",
              "122173  Kinara's Maratha Darbar     Kothrud  Pune  1K+ ratings     1000\n",
              "132448               Irani Cafe  Magarpatta  Pune  1K+ ratings     1000\n",
              "128741              Burger King        PCMC  Pune  1K+ ratings     1000\n",
              "129987               McDonald's       Aundh  Pune  1K+ ratings     1000\n",
              "132389          Godavari Snacks  Magarpatta  Pune  1K+ ratings     1000"
            ],
            "text/html": [
              "\n",
              "\n",
              "  <div id=\"df-9ad364e0-8b0d-4e99-8405-1b6d43251fd3\">\n",
              "    <div class=\"colab-df-container\">\n",
              "      <div>\n",
              "<style scoped>\n",
              "    .dataframe tbody tr th:only-of-type {\n",
              "        vertical-align: middle;\n",
              "    }\n",
              "\n",
              "    .dataframe tbody tr th {\n",
              "        vertical-align: top;\n",
              "    }\n",
              "\n",
              "    .dataframe thead th {\n",
              "        text-align: right;\n",
              "    }\n",
              "</style>\n",
              "<table border=\"1\" class=\"dataframe\">\n",
              "  <thead>\n",
              "    <tr style=\"text-align: right;\">\n",
              "      <th></th>\n",
              "      <th>Restaurant</th>\n",
              "      <th>SubRegion</th>\n",
              "      <th>City</th>\n",
              "      <th>rating_count</th>\n",
              "      <th>Reviews</th>\n",
              "    </tr>\n",
              "  </thead>\n",
              "  <tbody>\n",
              "    <tr>\n",
              "      <th>122173</th>\n",
              "      <td>Kinara's Maratha Darbar</td>\n",
              "      <td>Kothrud</td>\n",
              "      <td>Pune</td>\n",
              "      <td>1K+ ratings</td>\n",
              "      <td>1000</td>\n",
              "    </tr>\n",
              "    <tr>\n",
              "      <th>132448</th>\n",
              "      <td>Irani Cafe</td>\n",
              "      <td>Magarpatta</td>\n",
              "      <td>Pune</td>\n",
              "      <td>1K+ ratings</td>\n",
              "      <td>1000</td>\n",
              "    </tr>\n",
              "    <tr>\n",
              "      <th>128741</th>\n",
              "      <td>Burger King</td>\n",
              "      <td>PCMC</td>\n",
              "      <td>Pune</td>\n",
              "      <td>1K+ ratings</td>\n",
              "      <td>1000</td>\n",
              "    </tr>\n",
              "    <tr>\n",
              "      <th>129987</th>\n",
              "      <td>McDonald's</td>\n",
              "      <td>Aundh</td>\n",
              "      <td>Pune</td>\n",
              "      <td>1K+ ratings</td>\n",
              "      <td>1000</td>\n",
              "    </tr>\n",
              "    <tr>\n",
              "      <th>132389</th>\n",
              "      <td>Godavari Snacks</td>\n",
              "      <td>Magarpatta</td>\n",
              "      <td>Pune</td>\n",
              "      <td>1K+ ratings</td>\n",
              "      <td>1000</td>\n",
              "    </tr>\n",
              "  </tbody>\n",
              "</table>\n",
              "</div>\n",
              "      <button class=\"colab-df-convert\" onclick=\"convertToInteractive('df-9ad364e0-8b0d-4e99-8405-1b6d43251fd3')\"\n",
              "              title=\"Convert this dataframe to an interactive table.\"\n",
              "              style=\"display:none;\">\n",
              "\n",
              "  <svg xmlns=\"http://www.w3.org/2000/svg\" height=\"24px\"viewBox=\"0 0 24 24\"\n",
              "       width=\"24px\">\n",
              "    <path d=\"M0 0h24v24H0V0z\" fill=\"none\"/>\n",
              "    <path d=\"M18.56 5.44l.94 2.06.94-2.06 2.06-.94-2.06-.94-.94-2.06-.94 2.06-2.06.94zm-11 1L8.5 8.5l.94-2.06 2.06-.94-2.06-.94L8.5 2.5l-.94 2.06-2.06.94zm10 10l.94 2.06.94-2.06 2.06-.94-2.06-.94-.94-2.06-.94 2.06-2.06.94z\"/><path d=\"M17.41 7.96l-1.37-1.37c-.4-.4-.92-.59-1.43-.59-.52 0-1.04.2-1.43.59L10.3 9.45l-7.72 7.72c-.78.78-.78 2.05 0 2.83L4 21.41c.39.39.9.59 1.41.59.51 0 1.02-.2 1.41-.59l7.78-7.78 2.81-2.81c.8-.78.8-2.07 0-2.86zM5.41 20L4 18.59l7.72-7.72 1.47 1.35L5.41 20z\"/>\n",
              "  </svg>\n",
              "      </button>\n",
              "\n",
              "\n",
              "\n",
              "    <div id=\"df-a4c19d5e-3dc7-4207-8484-e531024eb442\">\n",
              "      <button class=\"colab-df-quickchart\" onclick=\"quickchart('df-a4c19d5e-3dc7-4207-8484-e531024eb442')\"\n",
              "              title=\"Suggest charts.\"\n",
              "              style=\"display:none;\">\n",
              "\n",
              "<svg xmlns=\"http://www.w3.org/2000/svg\" height=\"24px\"viewBox=\"0 0 24 24\"\n",
              "     width=\"24px\">\n",
              "    <g>\n",
              "        <path d=\"M19 3H5c-1.1 0-2 .9-2 2v14c0 1.1.9 2 2 2h14c1.1 0 2-.9 2-2V5c0-1.1-.9-2-2-2zM9 17H7v-7h2v7zm4 0h-2V7h2v10zm4 0h-2v-4h2v4z\"/>\n",
              "    </g>\n",
              "</svg>\n",
              "      </button>\n",
              "    </div>\n",
              "\n",
              "<style>\n",
              "  .colab-df-quickchart {\n",
              "    background-color: #E8F0FE;\n",
              "    border: none;\n",
              "    border-radius: 50%;\n",
              "    cursor: pointer;\n",
              "    display: none;\n",
              "    fill: #1967D2;\n",
              "    height: 32px;\n",
              "    padding: 0 0 0 0;\n",
              "    width: 32px;\n",
              "  }\n",
              "\n",
              "  .colab-df-quickchart:hover {\n",
              "    background-color: #E2EBFA;\n",
              "    box-shadow: 0px 1px 2px rgba(60, 64, 67, 0.3), 0px 1px 3px 1px rgba(60, 64, 67, 0.15);\n",
              "    fill: #174EA6;\n",
              "  }\n",
              "\n",
              "  [theme=dark] .colab-df-quickchart {\n",
              "    background-color: #3B4455;\n",
              "    fill: #D2E3FC;\n",
              "  }\n",
              "\n",
              "  [theme=dark] .colab-df-quickchart:hover {\n",
              "    background-color: #434B5C;\n",
              "    box-shadow: 0px 1px 3px 1px rgba(0, 0, 0, 0.15);\n",
              "    filter: drop-shadow(0px 1px 2px rgba(0, 0, 0, 0.3));\n",
              "    fill: #FFFFFF;\n",
              "  }\n",
              "</style>\n",
              "\n",
              "    <script>\n",
              "      async function quickchart(key) {\n",
              "        const containerElement = document.querySelector('#' + key);\n",
              "        const charts = await google.colab.kernel.invokeFunction(\n",
              "            'suggestCharts', [key], {});\n",
              "      }\n",
              "    </script>\n",
              "\n",
              "      <script>\n",
              "\n",
              "function displayQuickchartButton(domScope) {\n",
              "  let quickchartButtonEl =\n",
              "    domScope.querySelector('#df-a4c19d5e-3dc7-4207-8484-e531024eb442 button.colab-df-quickchart');\n",
              "  quickchartButtonEl.style.display =\n",
              "    google.colab.kernel.accessAllowed ? 'block' : 'none';\n",
              "}\n",
              "\n",
              "        displayQuickchartButton(document);\n",
              "      </script>\n",
              "      <style>\n",
              "    .colab-df-container {\n",
              "      display:flex;\n",
              "      flex-wrap:wrap;\n",
              "      gap: 12px;\n",
              "    }\n",
              "\n",
              "    .colab-df-convert {\n",
              "      background-color: #E8F0FE;\n",
              "      border: none;\n",
              "      border-radius: 50%;\n",
              "      cursor: pointer;\n",
              "      display: none;\n",
              "      fill: #1967D2;\n",
              "      height: 32px;\n",
              "      padding: 0 0 0 0;\n",
              "      width: 32px;\n",
              "    }\n",
              "\n",
              "    .colab-df-convert:hover {\n",
              "      background-color: #E2EBFA;\n",
              "      box-shadow: 0px 1px 2px rgba(60, 64, 67, 0.3), 0px 1px 3px 1px rgba(60, 64, 67, 0.15);\n",
              "      fill: #174EA6;\n",
              "    }\n",
              "\n",
              "    [theme=dark] .colab-df-convert {\n",
              "      background-color: #3B4455;\n",
              "      fill: #D2E3FC;\n",
              "    }\n",
              "\n",
              "    [theme=dark] .colab-df-convert:hover {\n",
              "      background-color: #434B5C;\n",
              "      box-shadow: 0px 1px 3px 1px rgba(0, 0, 0, 0.15);\n",
              "      filter: drop-shadow(0px 1px 2px rgba(0, 0, 0, 0.3));\n",
              "      fill: #FFFFFF;\n",
              "    }\n",
              "  </style>\n",
              "\n",
              "      <script>\n",
              "        const buttonEl =\n",
              "          document.querySelector('#df-9ad364e0-8b0d-4e99-8405-1b6d43251fd3 button.colab-df-convert');\n",
              "        buttonEl.style.display =\n",
              "          google.colab.kernel.accessAllowed ? 'block' : 'none';\n",
              "\n",
              "        async function convertToInteractive(key) {\n",
              "          const element = document.querySelector('#df-9ad364e0-8b0d-4e99-8405-1b6d43251fd3');\n",
              "          const dataTable =\n",
              "            await google.colab.kernel.invokeFunction('convertToInteractive',\n",
              "                                                     [key], {});\n",
              "          if (!dataTable) return;\n",
              "\n",
              "          const docLinkHtml = 'Like what you see? Visit the ' +\n",
              "            '<a target=\"_blank\" href=https://colab.research.google.com/notebooks/data_table.ipynb>data table notebook</a>'\n",
              "            + ' to learn more about interactive tables.';\n",
              "          element.innerHTML = '';\n",
              "          dataTable['output_type'] = 'display_data';\n",
              "          await google.colab.output.renderOutput(dataTable, element);\n",
              "          const docLink = document.createElement('div');\n",
              "          docLink.innerHTML = docLinkHtml;\n",
              "          element.appendChild(docLink);\n",
              "        }\n",
              "      </script>\n",
              "    </div>\n",
              "  </div>\n"
            ]
          },
          "metadata": {},
          "execution_count": 77
        }
      ]
    },
    {
      "cell_type": "markdown",
      "source": [
        "###9-Which SubRegion in Delhi is having the least expensive restaurant in terms of cost?"
      ],
      "metadata": {
        "id": "dlN3f-e421-D"
      }
    },
    {
      "cell_type": "code",
      "source": [
        "delhi_data = df[df['City'] == 'Delhi']\n",
        "\n",
        "# Group by SubRegion and calculate the mean cost for each SubRegion\n",
        "subregion_costs = delhi_data.groupby('SubRegion')['cost'].mean().sort_values()\n",
        "\n",
        "# Get the SubRegion with the lowest mean cost\n",
        "least_expensive_subregion = subregion_costs.idxmin()\n",
        "\n",
        "print(f\"The SubRegion in Delhi with the least expensive restaurants in terms of cost is: {least_expensive_subregion}\")\n"
      ],
      "metadata": {
        "colab": {
          "base_uri": "https://localhost:8080/"
        },
        "id": "YI0IOmEv2LcJ",
        "outputId": "8f3877aa-dd49-4ec9-9888-111e1d5073c3"
      },
      "execution_count": 58,
      "outputs": [
        {
          "output_type": "stream",
          "name": "stdout",
          "text": [
            "The SubRegion in Delhi with the least expensive restaurants in terms of cost is: Sector 18\n"
          ]
        }
      ]
    },
    {
      "cell_type": "markdown",
      "source": [
        "###10-Top 5 most popular restaurant chains in India?"
      ],
      "metadata": {
        "id": "R6VmWOL44o7W"
      }
    },
    {
      "cell_type": "code",
      "source": [
        "d = df.groupby('Restaurant', as_index=False).agg('count')[['Restaurant', 'id']].sort_values(by='id', ascending = False)\n",
        "top_5_restaurant_chains = d.head(5)\n",
        "print(top_5_restaurant_chains)\n"
      ],
      "metadata": {
        "colab": {
          "base_uri": "https://localhost:8080/"
        },
        "id": "3Vkldz6l4oc8",
        "outputId": "288740dc-8788-45ed-9bd9-c879f470bae7"
      },
      "execution_count": 69,
      "outputs": [
        {
          "output_type": "stream",
          "name": "stdout",
          "text": [
            "                                            Restaurant   id\n",
            "28539                                   Domino's Pizza  443\n",
            "73612                                        Pizza Hut  319\n",
            "49040                                              KFC  309\n",
            "53384  Kwality Walls Frozen Dessert and Ice Cream Shop  299\n",
            "11753                                   Baskin Robbins  276\n"
          ]
        }
      ]
    },
    {
      "cell_type": "markdown",
      "source": [
        "###11-Which restaurant in Pune has the most number of people visiting?"
      ],
      "metadata": {
        "id": "mpbfp_Hs8Ka-"
      }
    },
    {
      "cell_type": "code",
      "source": [
        "d = df.sort_values(by = 'Reviews', ascending=False)[['Restaurant', 'SubRegion', 'City','rating', 'rating_count','Reviews']]\n",
        "d[d.City == 'Pune'].head(5)"
      ],
      "metadata": {
        "colab": {
          "base_uri": "https://localhost:8080/",
          "height": 206
        },
        "id": "BiSYoaW65rJO",
        "outputId": "97811037-8936-488b-951f-04c5fc61d2b8"
      },
      "execution_count": 78,
      "outputs": [
        {
          "output_type": "execute_result",
          "data": {
            "text/plain": [
              "                     Restaurant   SubRegion  City  rating rating_count  \\\n",
              "122173  Kinara's Maratha Darbar     Kothrud  Pune     4.1  1K+ ratings   \n",
              "132448               Irani Cafe  Magarpatta  Pune     4.3  1K+ ratings   \n",
              "128741              Burger King        PCMC  Pune     4.0  1K+ ratings   \n",
              "129987               McDonald's       Aundh  Pune     4.2  1K+ ratings   \n",
              "132389          Godavari Snacks  Magarpatta  Pune     4.2  1K+ ratings   \n",
              "\n",
              "        Reviews  \n",
              "122173     1000  \n",
              "132448     1000  \n",
              "128741     1000  \n",
              "129987     1000  \n",
              "132389     1000  "
            ],
            "text/html": [
              "\n",
              "\n",
              "  <div id=\"df-f855b24c-7e74-4722-892f-57b1d6a0f873\">\n",
              "    <div class=\"colab-df-container\">\n",
              "      <div>\n",
              "<style scoped>\n",
              "    .dataframe tbody tr th:only-of-type {\n",
              "        vertical-align: middle;\n",
              "    }\n",
              "\n",
              "    .dataframe tbody tr th {\n",
              "        vertical-align: top;\n",
              "    }\n",
              "\n",
              "    .dataframe thead th {\n",
              "        text-align: right;\n",
              "    }\n",
              "</style>\n",
              "<table border=\"1\" class=\"dataframe\">\n",
              "  <thead>\n",
              "    <tr style=\"text-align: right;\">\n",
              "      <th></th>\n",
              "      <th>Restaurant</th>\n",
              "      <th>SubRegion</th>\n",
              "      <th>City</th>\n",
              "      <th>rating</th>\n",
              "      <th>rating_count</th>\n",
              "      <th>Reviews</th>\n",
              "    </tr>\n",
              "  </thead>\n",
              "  <tbody>\n",
              "    <tr>\n",
              "      <th>122173</th>\n",
              "      <td>Kinara's Maratha Darbar</td>\n",
              "      <td>Kothrud</td>\n",
              "      <td>Pune</td>\n",
              "      <td>4.1</td>\n",
              "      <td>1K+ ratings</td>\n",
              "      <td>1000</td>\n",
              "    </tr>\n",
              "    <tr>\n",
              "      <th>132448</th>\n",
              "      <td>Irani Cafe</td>\n",
              "      <td>Magarpatta</td>\n",
              "      <td>Pune</td>\n",
              "      <td>4.3</td>\n",
              "      <td>1K+ ratings</td>\n",
              "      <td>1000</td>\n",
              "    </tr>\n",
              "    <tr>\n",
              "      <th>128741</th>\n",
              "      <td>Burger King</td>\n",
              "      <td>PCMC</td>\n",
              "      <td>Pune</td>\n",
              "      <td>4.0</td>\n",
              "      <td>1K+ ratings</td>\n",
              "      <td>1000</td>\n",
              "    </tr>\n",
              "    <tr>\n",
              "      <th>129987</th>\n",
              "      <td>McDonald's</td>\n",
              "      <td>Aundh</td>\n",
              "      <td>Pune</td>\n",
              "      <td>4.2</td>\n",
              "      <td>1K+ ratings</td>\n",
              "      <td>1000</td>\n",
              "    </tr>\n",
              "    <tr>\n",
              "      <th>132389</th>\n",
              "      <td>Godavari Snacks</td>\n",
              "      <td>Magarpatta</td>\n",
              "      <td>Pune</td>\n",
              "      <td>4.2</td>\n",
              "      <td>1K+ ratings</td>\n",
              "      <td>1000</td>\n",
              "    </tr>\n",
              "  </tbody>\n",
              "</table>\n",
              "</div>\n",
              "      <button class=\"colab-df-convert\" onclick=\"convertToInteractive('df-f855b24c-7e74-4722-892f-57b1d6a0f873')\"\n",
              "              title=\"Convert this dataframe to an interactive table.\"\n",
              "              style=\"display:none;\">\n",
              "\n",
              "  <svg xmlns=\"http://www.w3.org/2000/svg\" height=\"24px\"viewBox=\"0 0 24 24\"\n",
              "       width=\"24px\">\n",
              "    <path d=\"M0 0h24v24H0V0z\" fill=\"none\"/>\n",
              "    <path d=\"M18.56 5.44l.94 2.06.94-2.06 2.06-.94-2.06-.94-.94-2.06-.94 2.06-2.06.94zm-11 1L8.5 8.5l.94-2.06 2.06-.94-2.06-.94L8.5 2.5l-.94 2.06-2.06.94zm10 10l.94 2.06.94-2.06 2.06-.94-2.06-.94-.94-2.06-.94 2.06-2.06.94z\"/><path d=\"M17.41 7.96l-1.37-1.37c-.4-.4-.92-.59-1.43-.59-.52 0-1.04.2-1.43.59L10.3 9.45l-7.72 7.72c-.78.78-.78 2.05 0 2.83L4 21.41c.39.39.9.59 1.41.59.51 0 1.02-.2 1.41-.59l7.78-7.78 2.81-2.81c.8-.78.8-2.07 0-2.86zM5.41 20L4 18.59l7.72-7.72 1.47 1.35L5.41 20z\"/>\n",
              "  </svg>\n",
              "      </button>\n",
              "\n",
              "\n",
              "\n",
              "    <div id=\"df-c16131d4-5bad-44c5-b7c8-c3ed4d8e9e2a\">\n",
              "      <button class=\"colab-df-quickchart\" onclick=\"quickchart('df-c16131d4-5bad-44c5-b7c8-c3ed4d8e9e2a')\"\n",
              "              title=\"Suggest charts.\"\n",
              "              style=\"display:none;\">\n",
              "\n",
              "<svg xmlns=\"http://www.w3.org/2000/svg\" height=\"24px\"viewBox=\"0 0 24 24\"\n",
              "     width=\"24px\">\n",
              "    <g>\n",
              "        <path d=\"M19 3H5c-1.1 0-2 .9-2 2v14c0 1.1.9 2 2 2h14c1.1 0 2-.9 2-2V5c0-1.1-.9-2-2-2zM9 17H7v-7h2v7zm4 0h-2V7h2v10zm4 0h-2v-4h2v4z\"/>\n",
              "    </g>\n",
              "</svg>\n",
              "      </button>\n",
              "    </div>\n",
              "\n",
              "<style>\n",
              "  .colab-df-quickchart {\n",
              "    background-color: #E8F0FE;\n",
              "    border: none;\n",
              "    border-radius: 50%;\n",
              "    cursor: pointer;\n",
              "    display: none;\n",
              "    fill: #1967D2;\n",
              "    height: 32px;\n",
              "    padding: 0 0 0 0;\n",
              "    width: 32px;\n",
              "  }\n",
              "\n",
              "  .colab-df-quickchart:hover {\n",
              "    background-color: #E2EBFA;\n",
              "    box-shadow: 0px 1px 2px rgba(60, 64, 67, 0.3), 0px 1px 3px 1px rgba(60, 64, 67, 0.15);\n",
              "    fill: #174EA6;\n",
              "  }\n",
              "\n",
              "  [theme=dark] .colab-df-quickchart {\n",
              "    background-color: #3B4455;\n",
              "    fill: #D2E3FC;\n",
              "  }\n",
              "\n",
              "  [theme=dark] .colab-df-quickchart:hover {\n",
              "    background-color: #434B5C;\n",
              "    box-shadow: 0px 1px 3px 1px rgba(0, 0, 0, 0.15);\n",
              "    filter: drop-shadow(0px 1px 2px rgba(0, 0, 0, 0.3));\n",
              "    fill: #FFFFFF;\n",
              "  }\n",
              "</style>\n",
              "\n",
              "    <script>\n",
              "      async function quickchart(key) {\n",
              "        const containerElement = document.querySelector('#' + key);\n",
              "        const charts = await google.colab.kernel.invokeFunction(\n",
              "            'suggestCharts', [key], {});\n",
              "      }\n",
              "    </script>\n",
              "\n",
              "      <script>\n",
              "\n",
              "function displayQuickchartButton(domScope) {\n",
              "  let quickchartButtonEl =\n",
              "    domScope.querySelector('#df-c16131d4-5bad-44c5-b7c8-c3ed4d8e9e2a button.colab-df-quickchart');\n",
              "  quickchartButtonEl.style.display =\n",
              "    google.colab.kernel.accessAllowed ? 'block' : 'none';\n",
              "}\n",
              "\n",
              "        displayQuickchartButton(document);\n",
              "      </script>\n",
              "      <style>\n",
              "    .colab-df-container {\n",
              "      display:flex;\n",
              "      flex-wrap:wrap;\n",
              "      gap: 12px;\n",
              "    }\n",
              "\n",
              "    .colab-df-convert {\n",
              "      background-color: #E8F0FE;\n",
              "      border: none;\n",
              "      border-radius: 50%;\n",
              "      cursor: pointer;\n",
              "      display: none;\n",
              "      fill: #1967D2;\n",
              "      height: 32px;\n",
              "      padding: 0 0 0 0;\n",
              "      width: 32px;\n",
              "    }\n",
              "\n",
              "    .colab-df-convert:hover {\n",
              "      background-color: #E2EBFA;\n",
              "      box-shadow: 0px 1px 2px rgba(60, 64, 67, 0.3), 0px 1px 3px 1px rgba(60, 64, 67, 0.15);\n",
              "      fill: #174EA6;\n",
              "    }\n",
              "\n",
              "    [theme=dark] .colab-df-convert {\n",
              "      background-color: #3B4455;\n",
              "      fill: #D2E3FC;\n",
              "    }\n",
              "\n",
              "    [theme=dark] .colab-df-convert:hover {\n",
              "      background-color: #434B5C;\n",
              "      box-shadow: 0px 1px 3px 1px rgba(0, 0, 0, 0.15);\n",
              "      filter: drop-shadow(0px 1px 2px rgba(0, 0, 0, 0.3));\n",
              "      fill: #FFFFFF;\n",
              "    }\n",
              "  </style>\n",
              "\n",
              "      <script>\n",
              "        const buttonEl =\n",
              "          document.querySelector('#df-f855b24c-7e74-4722-892f-57b1d6a0f873 button.colab-df-convert');\n",
              "        buttonEl.style.display =\n",
              "          google.colab.kernel.accessAllowed ? 'block' : 'none';\n",
              "\n",
              "        async function convertToInteractive(key) {\n",
              "          const element = document.querySelector('#df-f855b24c-7e74-4722-892f-57b1d6a0f873');\n",
              "          const dataTable =\n",
              "            await google.colab.kernel.invokeFunction('convertToInteractive',\n",
              "                                                     [key], {});\n",
              "          if (!dataTable) return;\n",
              "\n",
              "          const docLinkHtml = 'Like what you see? Visit the ' +\n",
              "            '<a target=\"_blank\" href=https://colab.research.google.com/notebooks/data_table.ipynb>data table notebook</a>'\n",
              "            + ' to learn more about interactive tables.';\n",
              "          element.innerHTML = '';\n",
              "          dataTable['output_type'] = 'display_data';\n",
              "          await google.colab.output.renderOutput(dataTable, element);\n",
              "          const docLink = document.createElement('div');\n",
              "          docLink.innerHTML = docLinkHtml;\n",
              "          element.appendChild(docLink);\n",
              "        }\n",
              "      </script>\n",
              "    </div>\n",
              "  </div>\n"
            ]
          },
          "metadata": {},
          "execution_count": 78
        }
      ]
    },
    {
      "cell_type": "markdown",
      "source": [
        "###12-Top 10 Restaurants with Maximum Ratings in Banglore"
      ],
      "metadata": {
        "id": "fDEDUFBz9E8w"
      }
    },
    {
      "cell_type": "code",
      "source": [
        "top_restaurants_bangalore = df[(df['City'] == 'Bangalore')].nlargest(10, 'rating')\n",
        "print('Top 10 Restaurants with Maximum Ratings in Bangalore:')\n",
        "print(top_restaurants_bangalore[['Restaurant', 'rating']])\n"
      ],
      "metadata": {
        "colab": {
          "base_uri": "https://localhost:8080/"
        },
        "id": "4GenVvp89rtD",
        "outputId": "860ca06c-d312-4baa-a2b5-a0463d3234a6"
      },
      "execution_count": 83,
      "outputs": [
        {
          "output_type": "stream",
          "name": "stdout",
          "text": [
            "Top 10 Restaurants with Maximum Ratings in Bangalore:\n",
            "                                        Restaurant  rating\n",
            "9758                              Creams and Bites     5.0\n",
            "9808                  Bansal's Thali & Combo Meals     5.0\n",
            "10239              GOWHEY- HEALTHY DESSERT COMPANY     5.0\n",
            "10687  JUST CREAMERY - Artisanal Healthy Ice Cream     5.0\n",
            "11181                       The Chinese Connection     5.0\n",
            "11894                                HRX by Eatfit     5.0\n",
            "12143                                HUNGER TREATS     5.0\n",
            "12167                                   Snack Ride     5.0\n",
            "12936  JUST CREAMERY - Artisanal Healthy Ice Cream     5.0\n",
            "13058                           Fresh crunch pizza     5.0\n"
          ]
        }
      ]
    },
    {
      "cell_type": "markdown",
      "source": [
        "###13-Top 10 Restaurant in Patna w.r.t rating"
      ],
      "metadata": {
        "id": "5Ck5E8WU-A-f"
      }
    },
    {
      "cell_type": "code",
      "source": [
        "Patna= df[df['City'] == 'Patna']\n",
        "Patna[Patna['rating'] == Patna['rating'].max()][['Restaurant','City','rating']]\n",
        "Top = df.City.value_counts(ascending=False).reset_index().rename({'index':'City', 'City':'Counts'}, axis=1).head(10)\n",
        "\n",
        "fig =px.bar(Patna.sort_values(by='rating',ascending = False).head(10),\n",
        "            x= 'Restaurant',\n",
        "            y= 'rating',\n",
        "            labels = {'Restaurant':'Top 10 Restaurants in Patna','rating':'Rating'},\n",
        "            template='plotly_dark',\n",
        "            color_discrete_sequence = px.colors.qualitative.Bold,\n",
        "            title='<b>Top 10 Restaurant in Patna w.r.t rating')\n",
        "\n",
        "fig.show()\n",
        "\n",
        "pyo.plot(fig, filename = 'Top 10 Restaurant in Patna w.r.t rating.html', auto_open = True)"
      ],
      "metadata": {
        "colab": {
          "base_uri": "https://localhost:8080/",
          "height": 560
        },
        "id": "_UcTISdx9-bC",
        "outputId": "0be63c09-5766-4db4-da95-4ca9adc27d21"
      },
      "execution_count": 88,
      "outputs": [
        {
          "output_type": "display_data",
          "data": {
            "text/html": [
              "<html>\n",
              "<head><meta charset=\"utf-8\" /></head>\n",
              "<body>\n",
              "    <div>            <script src=\"https://cdnjs.cloudflare.com/ajax/libs/mathjax/2.7.5/MathJax.js?config=TeX-AMS-MML_SVG\"></script><script type=\"text/javascript\">if (window.MathJax && window.MathJax.Hub && window.MathJax.Hub.Config) {window.MathJax.Hub.Config({SVG: {font: \"STIX-Web\"}});}</script>                <script type=\"text/javascript\">window.PlotlyConfig = {MathJaxConfig: 'local'};</script>\n",
              "        <script src=\"https://cdn.plot.ly/plotly-2.18.2.min.js\"></script>                <div id=\"e2923193-d386-4c89-9011-dc3dd12d7930\" class=\"plotly-graph-div\" style=\"height:525px; width:100%;\"></div>            <script type=\"text/javascript\">                                    window.PLOTLYENV=window.PLOTLYENV || {};                                    if (document.getElementById(\"e2923193-d386-4c89-9011-dc3dd12d7930\")) {                    Plotly.newPlot(                        \"e2923193-d386-4c89-9011-dc3dd12d7930\",                        [{\"alignmentgroup\":\"True\",\"hovertemplate\":\"Top 10 Restaurants in Patna=%{x}<br>Rating=%{y}<extra></extra>\",\"legendgroup\":\"\",\"marker\":{\"color\":\"rgb(127, 60, 141)\",\"pattern\":{\"shape\":\"\"}},\"name\":\"\",\"offsetgroup\":\"\",\"orientation\":\"v\",\"showlegend\":false,\"textposition\":\"auto\",\"x\":[\"Kwality Walls Frozen Dessert and Ice Cream Shop\",\"Slurpy Shakes\",\"Cupcake Bliss Cake & Desserts\",\"Burger It Up\",\"Kouzina Kafe The Food Court\",\"GARAGE KITCHEN\",\"The Dessert Zone\",\"Pure Veg Meals by Lunchbox\",\"KINGDOM OF MOMOS\",\"Indiana Burgers\"],\"xaxis\":\"x\",\"y\":[4.6,4.6,4.5,4.5,4.5,4.5,4.4,4.4,4.4,4.4],\"yaxis\":\"y\",\"type\":\"bar\"}],                        {\"template\":{\"data\":{\"barpolar\":[{\"marker\":{\"line\":{\"color\":\"rgb(17,17,17)\",\"width\":0.5},\"pattern\":{\"fillmode\":\"overlay\",\"size\":10,\"solidity\":0.2}},\"type\":\"barpolar\"}],\"bar\":[{\"error_x\":{\"color\":\"#f2f5fa\"},\"error_y\":{\"color\":\"#f2f5fa\"},\"marker\":{\"line\":{\"color\":\"rgb(17,17,17)\",\"width\":0.5},\"pattern\":{\"fillmode\":\"overlay\",\"size\":10,\"solidity\":0.2}},\"type\":\"bar\"}],\"carpet\":[{\"aaxis\":{\"endlinecolor\":\"#A2B1C6\",\"gridcolor\":\"#506784\",\"linecolor\":\"#506784\",\"minorgridcolor\":\"#506784\",\"startlinecolor\":\"#A2B1C6\"},\"baxis\":{\"endlinecolor\":\"#A2B1C6\",\"gridcolor\":\"#506784\",\"linecolor\":\"#506784\",\"minorgridcolor\":\"#506784\",\"startlinecolor\":\"#A2B1C6\"},\"type\":\"carpet\"}],\"choropleth\":[{\"colorbar\":{\"outlinewidth\":0,\"ticks\":\"\"},\"type\":\"choropleth\"}],\"contourcarpet\":[{\"colorbar\":{\"outlinewidth\":0,\"ticks\":\"\"},\"type\":\"contourcarpet\"}],\"contour\":[{\"colorbar\":{\"outlinewidth\":0,\"ticks\":\"\"},\"colorscale\":[[0.0,\"#0d0887\"],[0.1111111111111111,\"#46039f\"],[0.2222222222222222,\"#7201a8\"],[0.3333333333333333,\"#9c179e\"],[0.4444444444444444,\"#bd3786\"],[0.5555555555555556,\"#d8576b\"],[0.6666666666666666,\"#ed7953\"],[0.7777777777777778,\"#fb9f3a\"],[0.8888888888888888,\"#fdca26\"],[1.0,\"#f0f921\"]],\"type\":\"contour\"}],\"heatmapgl\":[{\"colorbar\":{\"outlinewidth\":0,\"ticks\":\"\"},\"colorscale\":[[0.0,\"#0d0887\"],[0.1111111111111111,\"#46039f\"],[0.2222222222222222,\"#7201a8\"],[0.3333333333333333,\"#9c179e\"],[0.4444444444444444,\"#bd3786\"],[0.5555555555555556,\"#d8576b\"],[0.6666666666666666,\"#ed7953\"],[0.7777777777777778,\"#fb9f3a\"],[0.8888888888888888,\"#fdca26\"],[1.0,\"#f0f921\"]],\"type\":\"heatmapgl\"}],\"heatmap\":[{\"colorbar\":{\"outlinewidth\":0,\"ticks\":\"\"},\"colorscale\":[[0.0,\"#0d0887\"],[0.1111111111111111,\"#46039f\"],[0.2222222222222222,\"#7201a8\"],[0.3333333333333333,\"#9c179e\"],[0.4444444444444444,\"#bd3786\"],[0.5555555555555556,\"#d8576b\"],[0.6666666666666666,\"#ed7953\"],[0.7777777777777778,\"#fb9f3a\"],[0.8888888888888888,\"#fdca26\"],[1.0,\"#f0f921\"]],\"type\":\"heatmap\"}],\"histogram2dcontour\":[{\"colorbar\":{\"outlinewidth\":0,\"ticks\":\"\"},\"colorscale\":[[0.0,\"#0d0887\"],[0.1111111111111111,\"#46039f\"],[0.2222222222222222,\"#7201a8\"],[0.3333333333333333,\"#9c179e\"],[0.4444444444444444,\"#bd3786\"],[0.5555555555555556,\"#d8576b\"],[0.6666666666666666,\"#ed7953\"],[0.7777777777777778,\"#fb9f3a\"],[0.8888888888888888,\"#fdca26\"],[1.0,\"#f0f921\"]],\"type\":\"histogram2dcontour\"}],\"histogram2d\":[{\"colorbar\":{\"outlinewidth\":0,\"ticks\":\"\"},\"colorscale\":[[0.0,\"#0d0887\"],[0.1111111111111111,\"#46039f\"],[0.2222222222222222,\"#7201a8\"],[0.3333333333333333,\"#9c179e\"],[0.4444444444444444,\"#bd3786\"],[0.5555555555555556,\"#d8576b\"],[0.6666666666666666,\"#ed7953\"],[0.7777777777777778,\"#fb9f3a\"],[0.8888888888888888,\"#fdca26\"],[1.0,\"#f0f921\"]],\"type\":\"histogram2d\"}],\"histogram\":[{\"marker\":{\"pattern\":{\"fillmode\":\"overlay\",\"size\":10,\"solidity\":0.2}},\"type\":\"histogram\"}],\"mesh3d\":[{\"colorbar\":{\"outlinewidth\":0,\"ticks\":\"\"},\"type\":\"mesh3d\"}],\"parcoords\":[{\"line\":{\"colorbar\":{\"outlinewidth\":0,\"ticks\":\"\"}},\"type\":\"parcoords\"}],\"pie\":[{\"automargin\":true,\"type\":\"pie\"}],\"scatter3d\":[{\"line\":{\"colorbar\":{\"outlinewidth\":0,\"ticks\":\"\"}},\"marker\":{\"colorbar\":{\"outlinewidth\":0,\"ticks\":\"\"}},\"type\":\"scatter3d\"}],\"scattercarpet\":[{\"marker\":{\"colorbar\":{\"outlinewidth\":0,\"ticks\":\"\"}},\"type\":\"scattercarpet\"}],\"scattergeo\":[{\"marker\":{\"colorbar\":{\"outlinewidth\":0,\"ticks\":\"\"}},\"type\":\"scattergeo\"}],\"scattergl\":[{\"marker\":{\"line\":{\"color\":\"#283442\"}},\"type\":\"scattergl\"}],\"scattermapbox\":[{\"marker\":{\"colorbar\":{\"outlinewidth\":0,\"ticks\":\"\"}},\"type\":\"scattermapbox\"}],\"scatterpolargl\":[{\"marker\":{\"colorbar\":{\"outlinewidth\":0,\"ticks\":\"\"}},\"type\":\"scatterpolargl\"}],\"scatterpolar\":[{\"marker\":{\"colorbar\":{\"outlinewidth\":0,\"ticks\":\"\"}},\"type\":\"scatterpolar\"}],\"scatter\":[{\"marker\":{\"line\":{\"color\":\"#283442\"}},\"type\":\"scatter\"}],\"scatterternary\":[{\"marker\":{\"colorbar\":{\"outlinewidth\":0,\"ticks\":\"\"}},\"type\":\"scatterternary\"}],\"surface\":[{\"colorbar\":{\"outlinewidth\":0,\"ticks\":\"\"},\"colorscale\":[[0.0,\"#0d0887\"],[0.1111111111111111,\"#46039f\"],[0.2222222222222222,\"#7201a8\"],[0.3333333333333333,\"#9c179e\"],[0.4444444444444444,\"#bd3786\"],[0.5555555555555556,\"#d8576b\"],[0.6666666666666666,\"#ed7953\"],[0.7777777777777778,\"#fb9f3a\"],[0.8888888888888888,\"#fdca26\"],[1.0,\"#f0f921\"]],\"type\":\"surface\"}],\"table\":[{\"cells\":{\"fill\":{\"color\":\"#506784\"},\"line\":{\"color\":\"rgb(17,17,17)\"}},\"header\":{\"fill\":{\"color\":\"#2a3f5f\"},\"line\":{\"color\":\"rgb(17,17,17)\"}},\"type\":\"table\"}]},\"layout\":{\"annotationdefaults\":{\"arrowcolor\":\"#f2f5fa\",\"arrowhead\":0,\"arrowwidth\":1},\"autotypenumbers\":\"strict\",\"coloraxis\":{\"colorbar\":{\"outlinewidth\":0,\"ticks\":\"\"}},\"colorscale\":{\"diverging\":[[0,\"#8e0152\"],[0.1,\"#c51b7d\"],[0.2,\"#de77ae\"],[0.3,\"#f1b6da\"],[0.4,\"#fde0ef\"],[0.5,\"#f7f7f7\"],[0.6,\"#e6f5d0\"],[0.7,\"#b8e186\"],[0.8,\"#7fbc41\"],[0.9,\"#4d9221\"],[1,\"#276419\"]],\"sequential\":[[0.0,\"#0d0887\"],[0.1111111111111111,\"#46039f\"],[0.2222222222222222,\"#7201a8\"],[0.3333333333333333,\"#9c179e\"],[0.4444444444444444,\"#bd3786\"],[0.5555555555555556,\"#d8576b\"],[0.6666666666666666,\"#ed7953\"],[0.7777777777777778,\"#fb9f3a\"],[0.8888888888888888,\"#fdca26\"],[1.0,\"#f0f921\"]],\"sequentialminus\":[[0.0,\"#0d0887\"],[0.1111111111111111,\"#46039f\"],[0.2222222222222222,\"#7201a8\"],[0.3333333333333333,\"#9c179e\"],[0.4444444444444444,\"#bd3786\"],[0.5555555555555556,\"#d8576b\"],[0.6666666666666666,\"#ed7953\"],[0.7777777777777778,\"#fb9f3a\"],[0.8888888888888888,\"#fdca26\"],[1.0,\"#f0f921\"]]},\"colorway\":[\"#636efa\",\"#EF553B\",\"#00cc96\",\"#ab63fa\",\"#FFA15A\",\"#19d3f3\",\"#FF6692\",\"#B6E880\",\"#FF97FF\",\"#FECB52\"],\"font\":{\"color\":\"#f2f5fa\"},\"geo\":{\"bgcolor\":\"rgb(17,17,17)\",\"lakecolor\":\"rgb(17,17,17)\",\"landcolor\":\"rgb(17,17,17)\",\"showlakes\":true,\"showland\":true,\"subunitcolor\":\"#506784\"},\"hoverlabel\":{\"align\":\"left\"},\"hovermode\":\"closest\",\"mapbox\":{\"style\":\"dark\"},\"paper_bgcolor\":\"rgb(17,17,17)\",\"plot_bgcolor\":\"rgb(17,17,17)\",\"polar\":{\"angularaxis\":{\"gridcolor\":\"#506784\",\"linecolor\":\"#506784\",\"ticks\":\"\"},\"bgcolor\":\"rgb(17,17,17)\",\"radialaxis\":{\"gridcolor\":\"#506784\",\"linecolor\":\"#506784\",\"ticks\":\"\"}},\"scene\":{\"xaxis\":{\"backgroundcolor\":\"rgb(17,17,17)\",\"gridcolor\":\"#506784\",\"gridwidth\":2,\"linecolor\":\"#506784\",\"showbackground\":true,\"ticks\":\"\",\"zerolinecolor\":\"#C8D4E3\"},\"yaxis\":{\"backgroundcolor\":\"rgb(17,17,17)\",\"gridcolor\":\"#506784\",\"gridwidth\":2,\"linecolor\":\"#506784\",\"showbackground\":true,\"ticks\":\"\",\"zerolinecolor\":\"#C8D4E3\"},\"zaxis\":{\"backgroundcolor\":\"rgb(17,17,17)\",\"gridcolor\":\"#506784\",\"gridwidth\":2,\"linecolor\":\"#506784\",\"showbackground\":true,\"ticks\":\"\",\"zerolinecolor\":\"#C8D4E3\"}},\"shapedefaults\":{\"line\":{\"color\":\"#f2f5fa\"}},\"sliderdefaults\":{\"bgcolor\":\"#C8D4E3\",\"bordercolor\":\"rgb(17,17,17)\",\"borderwidth\":1,\"tickwidth\":0},\"ternary\":{\"aaxis\":{\"gridcolor\":\"#506784\",\"linecolor\":\"#506784\",\"ticks\":\"\"},\"baxis\":{\"gridcolor\":\"#506784\",\"linecolor\":\"#506784\",\"ticks\":\"\"},\"bgcolor\":\"rgb(17,17,17)\",\"caxis\":{\"gridcolor\":\"#506784\",\"linecolor\":\"#506784\",\"ticks\":\"\"}},\"title\":{\"x\":0.05},\"updatemenudefaults\":{\"bgcolor\":\"#506784\",\"borderwidth\":0},\"xaxis\":{\"automargin\":true,\"gridcolor\":\"#283442\",\"linecolor\":\"#506784\",\"ticks\":\"\",\"title\":{\"standoff\":15},\"zerolinecolor\":\"#283442\",\"zerolinewidth\":2},\"yaxis\":{\"automargin\":true,\"gridcolor\":\"#283442\",\"linecolor\":\"#506784\",\"ticks\":\"\",\"title\":{\"standoff\":15},\"zerolinecolor\":\"#283442\",\"zerolinewidth\":2}}},\"xaxis\":{\"anchor\":\"y\",\"domain\":[0.0,1.0],\"title\":{\"text\":\"Top 10 Restaurants in Patna\"}},\"yaxis\":{\"anchor\":\"x\",\"domain\":[0.0,1.0],\"title\":{\"text\":\"Rating\"}},\"legend\":{\"tracegroupgap\":0},\"title\":{\"text\":\"<b>Top 10 Restaurant in Patna w.r.t rating\"},\"barmode\":\"relative\"},                        {\"responsive\": true}                    ).then(function(){\n",
              "                            \n",
              "var gd = document.getElementById('e2923193-d386-4c89-9011-dc3dd12d7930');\n",
              "var x = new MutationObserver(function (mutations, observer) {{\n",
              "        var display = window.getComputedStyle(gd).display;\n",
              "        if (!display || display === 'none') {{\n",
              "            console.log([gd, 'removed!']);\n",
              "            Plotly.purge(gd);\n",
              "            observer.disconnect();\n",
              "        }}\n",
              "}});\n",
              "\n",
              "// Listen for the removal of the full notebook cells\n",
              "var notebookContainer = gd.closest('#notebook-container');\n",
              "if (notebookContainer) {{\n",
              "    x.observe(notebookContainer, {childList: true});\n",
              "}}\n",
              "\n",
              "// Listen for the clearing of the current output cell\n",
              "var outputEl = gd.closest('.output');\n",
              "if (outputEl) {{\n",
              "    x.observe(outputEl, {childList: true});\n",
              "}}\n",
              "\n",
              "                        })                };                            </script>        </div>\n",
              "</body>\n",
              "</html>"
            ]
          },
          "metadata": {}
        },
        {
          "output_type": "execute_result",
          "data": {
            "text/plain": [
              "'Top 10 Restaurant in Patna w.r.t rating.html'"
            ],
            "application/vnd.google.colaboratory.intrinsic+json": {
              "type": "string"
            }
          },
          "metadata": {},
          "execution_count": 88
        }
      ]
    }
  ]
}